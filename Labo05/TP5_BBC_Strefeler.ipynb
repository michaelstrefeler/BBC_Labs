{
 "cells": [
  {
   "cell_type": "markdown",
   "metadata": {},
   "source": [
    "# BBC - Laboratoire 5\n",
    "## Transcriptomique\n",
    "\n",
    "- Professeur: Brochet Xavier (<a href=\"mailto:xavier.brochet@heig-vd.ch\">xavier.brochet@heig-vd.ch</a>)\n",
    "- Assistant: Thibault Schowing (<a href=\"mailto:thibault.schowing@heig-vd.ch\">thibault.schowing@heig-vd.ch</a>)\n",
    "- Étudiant: Michael Strefeler\n",
    "\n",
    "Date: Printemps 2025"
   ]
  },
  {
   "cell_type": "markdown",
   "metadata": {},
   "source": [
    "> ## Objectifs pédagogiques\n",
    "Pour réaliser ce laboratoire, du vocabulaire et des notions de base en biologie seront introduits ou perfectionnés. A la fin du laboratoire, l’étudiant devrait:\n",
    ">- Comprendre le type d'informations contenues dans les puces à ADN (microarray ou DNA chip en anglais)\n",
    ">- Savoir identifier des gènes exprimés differentiellement dans une condition vs. une autre (malade vs. sain)\n",
    ">- Comprendre les notions de test statistique et de p-valeur\n",
    ">- Comprendre comment l'apprentissage automatique peut être utilisé pour prédire si un patient est malade ou pas.\n",
    ">- Connaître l'existence de plusieurs technologies de type \"omique\".\n",
    "\n",
    "> ## But du labo\n",
    "La leucémie aiguë myéloblastique (AML) est un cancer qui touche les globules blancs du sang. On souhaite développer un médicament contre ce cancer, en identifiant des gènes qui sont particulièrement sur-exprimés (ou sous-exprimés) dans les cellules cancéreuses, comparé aux cellules normales. En effet, ces gènes seraient de bons candidats à cibler par le médicament. Une équipe de biologistes de Seattle (USA) a donc décidé d'utiliser la technologie des puces à ADN pour mesurer l'expression de 22283 gènes humains dans des cellules normales et des cellules leucémiques (PMID: <a href=\"http://www.ncbi.nlm.nih.gov/pubmed/17910043\">17910043</a>). Grâce à ce set de données, votre but est, dans un premier temps, d'identifier quelques gènes candidats pour développer un médicament contre ce cancer. Dans un deuxième temps, vous utiliserez ces même données comme un outil de diagnostique pour savoir si un patient est atteint d'AML ou pas.\n",
    "\n",
    "> ## Démarche\n",
    ">1. Visualiser quelques données pour mieux comprendre le problème.\n",
    ">2. Cibles thérapeutiques: (a) Identifier des gènes candidats à l'aide de la corrélation. (b) Améliorer la liste obtenue à l'aide du t-test et visualiser la matrice des candidats finaux.\n",
    ">3. Construire un classificateur pour développer un outil diagnostique.\n",
    "\n",
    "> ## Rapport de labo\n",
    "> <p >Merci de répondre aux questions posées sur fond cyan de façon concise dans la cellule située <u>juste en dessous</u>, et de nous retourner ce notebook.\n",
    "> <p style=\"background-color:#AFEEEE;padding:3px\"><font size=\"4\"><b>0. </b></font> Ceci est une question.</p>"
   ]
  },
  {
   "cell_type": "markdown",
   "metadata": {},
   "source": [
    "<b>→ Importez les modules suivants</b>\n",
    "\n",
    "Pour un démarrage rapide, vous pouvez utiliser le code suivant pour importer les modules nécessaires et créer directement l'environnement. N'oubliez pas d'activer et d'installer ipykernel pour l'environnement bbc5 avec pip. \n",
    "\n",
    "```\n",
    "conda create --name bbc5 conda-forge::biopython matplotlib numpy pandas scipy scikit-learn\n",
    "\n",
    "conda activate bbc5\n",
    "\n",
    "pip install ipykernel jupyter\n",
    "```\n"
   ]
  },
  {
   "cell_type": "markdown",
   "metadata": {},
   "source": [
    "## 1. Les données - mieux comprendre le problème\n",
    "\n",
    "Pour information, le set de données a été téléchargé à partir du <a href=\"http://www.ncbi.nlm.nih.gov/sites/GDSbrowser?acc=GDS3057\">site du NCBI</a> (curated dataset browser), qui est très utile pour faire des recherches de données en fonction d'une thématique. Comme vu lors des précédents laboratoires, vous pouvez également accéder à cette base de données en ligne de commande en utilisant \"Entrez Direct\".\n",
    "\n",
    "<b>→ A l'aide de votre tableur préféré (Excel,...), ouvrez le fichier GDS3057.soft et inspectez-le.</b>\n",
    "\n",
    "De nombreuses informations sur le set de données commencent par le caractère \"!\". Puis chaque condition (type de cellules, cancéreuses ou pas) est décrite à partir du caractère \"#\". Les données d'expression des gènes commencent après le tag \"!dataset_table_begin\": chaque ligne correspond à un gène, et les colonnes représentent l'expression de ce gène dans différents types de cellules (=conditions) testés ici.\n",
    "\n",
    "<p style=\"background-color:#AFEEEE;padding:3px\"><font size=\"4\"><b>1.1 </b></font>A quel type de cellules (leucémie ou normal) correspond la condition GSM239487?</p>"
   ]
  },
  {
   "cell_type": "markdown",
   "metadata": {},
   "source": [
    "<font color=\"orange\"><b>Leucémie, car dans le fichier on trouve: `#GSM239487 = Value for GSM239487: FHCRCAML2429; src: Leukemia`</b></font>"
   ]
  },
  {
   "cell_type": "markdown",
   "metadata": {},
   "source": [
    "Par la suite, vous utiliserez python pour lire les données et les analyser.\n",
    "\n",
    "<b>→ Commencez par importer les modules suivants</b>\n",
    "\n",
    "> En cas de soucis d'encodage, ajoutez les lignes suivantes à ~./bash_profile et re-lancez ipython notebook:\n",
    "> <p>export LC_ALL=en_US.UTF-8</p>\n",
    "> export LANG=en_US.UTF-8"
   ]
  },
  {
   "cell_type": "code",
   "execution_count": 25,
   "metadata": {},
   "outputs": [],
   "source": [
    "import os\n",
    "from sklearn import neighbors\n",
    "import numpy as np\n",
    "import pylab as plt\n",
    "%matplotlib inline\n",
    "import pandas as pd\n",
    "import numpy as np\n",
    "from Bio import Geo\n",
    "\n",
    "import importlib\n",
    "\n",
    "import random"
   ]
  },
  {
   "cell_type": "markdown",
   "metadata": {},
   "source": [
    "<b>→ Importez les données grâce au module Geo (Gene Expression Omnibus) de biopython</b>"
   ]
  },
  {
   "cell_type": "code",
   "execution_count": 26,
   "metadata": {},
   "outputs": [],
   "source": [
    "def load_geo(myfile):\n",
    "    handle = open(myfile)\n",
    "    records = Geo.parse(handle)\n",
    "    return records\n",
    "    \n",
    "records = load_geo('./data/GDS3057.soft')"
   ]
  },
  {
   "cell_type": "markdown",
   "metadata": {},
   "source": [
    "<b>→ Exécutez plusieurs fois d'affilée la commande ci-dessous, afin de mieux comprendre ce que contient records.</b> (Arrêtez-vous seulement lors de l'erreur \"StopIteration\")"
   ]
  },
  {
   "cell_type": "code",
   "execution_count": 27,
   "metadata": {},
   "outputs": [
    {
     "name": "stdout",
     "output_type": "stream",
     "text": [
      "GEO Type: DATABASE\n",
      "GEO Id: Geo\n",
      "Database_email: geo@ncbi.nlm.nih.gov\n",
      "\n",
      "Database_institute: NCBI NLM NIH\n",
      "\n",
      "Database_name: Gene Expression Omnibus (GEO)\n",
      "\n",
      "Database_ref: Nucleic Acids Res. 2005 Jan 1;33 Databas\n",
      "e Issue:D562-6\n",
      "\n",
      "Database_web_link: http://www.ncbi.nlm.nih.gov/geo\n",
      "\n",
      "Column Header Definitions\n",
      "\n",
      "\n",
      "---------------------- ENTITY_ATTRIBUTES:------------------------------\n",
      "\n",
      "{'Database_name': 'Gene Expression Omnibus (GEO)', 'Database_institute': 'NCBI NLM NIH', 'Database_web_link': 'http://www.ncbi.nlm.nih.gov/geo', 'Database_email': 'geo@ncbi.nlm.nih.gov', 'Database_ref': 'Nucleic Acids Res. 2005 Jan 1;33 Database Issue:D562-6'}\n"
     ]
    }
   ],
   "source": [
    "nr = next(records)\n",
    "print(nr)\n",
    "print('\\n---------------------- ENTITY_ATTRIBUTES:------------------------------\\n')\n",
    "print(nr.entity_attributes)"
   ]
  },
  {
   "cell_type": "markdown",
   "metadata": {},
   "source": [
    "A présent que vous savez ce que contient records, vous allez le \"parser\" pour trouver une description de chaque condition et extraire les données.\n",
    "\n",
    "<b>→ Testez les attributs de records pour trouver les conditions associées à chaque type cellulaire, ainsi que les conditions associées aux cellules cancéreuses.</b>"
   ]
  },
  {
   "cell_type": "code",
   "execution_count": 28,
   "metadata": {},
   "outputs": [
    {
     "name": "stdout",
     "output_type": "stream",
     "text": [
      "(22284, 66)\n",
      "['1007_s_at' 'DDR1' '3.27542' '2.96808' '3.36886' '2.99698' '3.34631'\n",
      " '2.73863' '3.30156' '3.24115' '4.18994' '3.00789' '3.1155' '3.43405'\n",
      " '3.17549' '3.22518' '2.99483' '3.05254' '3.00865' '2.97973' '3.16987'\n",
      " '2.92906' '3.47609' '3.24573' '3.11853' '2.79833' '3.23822' '3.56498'\n",
      " '3.28567' '2.92948' '2.92282' '3.1595' '3.16333' '2.9859' '3.12271'\n",
      " '3.07095' '3.078' '3.07444' '3.09244' '3.13217' '3.03842' '3.07705'\n",
      " '3.24184' '3.13774' '3.013' '3.02025' '3.0774' '3.14873' '3.0167'\n",
      " '3.43447' '3.09702' '3.08646' '3.16032' '3.0959' '3.44604' '2.99956'\n",
      " '3.13427' '3.20705' '2.97139' '2.84377' '3.0376' '3.04886' '3.11388'\n",
      " '3.03301' '3.21275' '3.4483']\n",
      "66\n",
      "leukemia_list: ['GSM239516', 'GSM239371', 'GSM239487', 'GSM239489', 'GSM239492', 'GSM239497', 'GSM239520', 'GSM240427', 'GSM239345', 'GSM239346', 'GSM239348', 'GSM239363', 'GSM239460', 'GSM239485', 'GSM239488', 'GSM239490', 'GSM239491', 'GSM239493', 'GSM239494', 'GSM239495', 'GSM239496', 'GSM239498', 'GSM239580', 'GSM240405', 'GSM240406', 'GSM240429']\n",
      "<class 'dict'>\n",
      "{'GSM239323': 'bone marrow', 'GSM239324': 'bone marrow', 'GSM239326': 'bone marrow', 'GSM239328': 'bone marrow', 'GSM239329': 'bone marrow', 'GSM239331': 'bone marrow', 'GSM239332': 'bone marrow', 'GSM239333': 'bone marrow', 'GSM239334': 'bone marrow', 'GSM239335': 'bone marrow', 'GSM239371': 'bone marrow', 'GSM239487': 'bone marrow', 'GSM239489': 'bone marrow', 'GSM239492': 'bone marrow', 'GSM239497': 'bone marrow', 'GSM239520': 'bone marrow', 'GSM240427': 'bone marrow', 'GSM240430': 'peripheral blood', 'GSM240431': 'peripheral blood', 'GSM240432': 'peripheral blood', 'GSM240433': 'peripheral blood', 'GSM240494': 'peripheral blood', 'GSM240495': 'peripheral blood', 'GSM240496': 'peripheral blood', 'GSM240497': 'peripheral blood', 'GSM240498': 'peripheral blood', 'GSM240499': 'peripheral blood', 'GSM239516': 'peripheral blood', 'GSM239345': 'peripheral blood', 'GSM239346': 'peripheral blood', 'GSM239348': 'peripheral blood', 'GSM239363': 'peripheral blood', 'GSM239460': 'peripheral blood', 'GSM239485': 'peripheral blood', 'GSM239488': 'peripheral blood', 'GSM239490': 'peripheral blood', 'GSM239491': 'peripheral blood', 'GSM239493': 'peripheral blood', 'GSM239494': 'peripheral blood', 'GSM239495': 'peripheral blood', 'GSM239496': 'peripheral blood', 'GSM239498': 'peripheral blood', 'GSM239580': 'peripheral blood', 'GSM240405': 'peripheral blood', 'GSM240406': 'peripheral blood', 'GSM240429': 'peripheral blood', 'GSM239170': 'bone marrow CD34plus', 'GSM239338': 'bone marrow CD34plus', 'GSM239339': 'bone marrow CD34plus', 'GSM239340': 'bone marrow CD34plus', 'GSM239341': 'bone marrow CD34plus', 'GSM239342': 'bone marrow CD34plus', 'GSM239343': 'bone marrow CD34plus', 'GSM239344': 'bone marrow CD34plus', 'GSM240500': 'PBSC CD34plus', 'GSM240501': 'PBSC CD34plus', 'GSM240502': 'PBSC CD34plus', 'GSM240503': 'PBSC CD34plus', 'GSM240504': 'PBSC CD34plus', 'GSM240505': 'PBSC CD34plus', 'GSM240506': 'PBSC CD34plus', 'GSM240507': 'PBSC CD34plus', 'GSM240508': 'PBSC CD34plus', 'GSM240509': 'PBSC CD34plus'}\n"
     ]
    }
   ],
   "source": [
    "# start by re-loading the data\n",
    "records = load_geo('./data/GDS3057.soft')\n",
    "\n",
    "# description of each condition (cell type)\n",
    "id_cond = {}  \n",
    "\n",
    "# loop over records\n",
    "for r in records:    \n",
    "    \n",
    "    rea = r.entity_attributes\n",
    "    \n",
    "    #if rea.has_key('subset_sample_id'): \n",
    "    if 'subset_sample_id' in rea:\n",
    "        \n",
    "        # find conditions associated with each cell type\n",
    "        if rea['subset_type']=='cell type':\n",
    "            sample_list = rea['subset_sample_id'].split(',')\n",
    "            desc = rea['subset_description']\n",
    "            for sample in sample_list:\n",
    "                id_cond[sample] = desc     \n",
    "        \n",
    "        # find conditions associated with the disease\n",
    "        if (rea['subset_type']=='disease state') & (rea['subset_description']=='leukemia'):\n",
    "            leukemia_list = rea['subset_sample_id'].split(',')\n",
    "\n",
    "    #if rea.has_key('dataset_table_begin'): # it's the gene expression data\n",
    "    if 'dataset_table_begin' in rea:\n",
    "        data = r.table_rows\n",
    "\n",
    "# converts data to an array (more practical to handle)\n",
    "data = np.array(data) \n",
    "print(data.shape)\n",
    "print(data[1,:])\n",
    "print(len(data[0,:]))\n",
    "print('leukemia_list:',leukemia_list)\n",
    "print(type(id_cond))\n",
    "print(id_cond)"
   ]
  },
  {
   "cell_type": "markdown",
   "metadata": {},
   "source": [
    "La dernière commande, data = np.array(data), convertit la variable data en un tableau à deux dimensions. Pour accéder à l'élément correspondant à la 3ème ligne et 5ème colonne, vous devez écrire data[3,5]. L'avantage par rapport aux listes de listes, c'est que vous pouvez facilement sélectionner une colonne ou une ligne de data. <a href=\"http://docs.scipy.org/doc/numpy/reference/arrays.ndarray.html\">Plus d'info sur les arrays multidimensionnels ici.</a>\n",
    "\n",
    "<b>→ Imprimez des éléments de data pour bien saisir ce qu'est un array.</b> "
   ]
  },
  {
   "cell_type": "code",
   "execution_count": 29,
   "metadata": {},
   "outputs": [
    {
     "name": "stdout",
     "output_type": "stream",
     "text": [
      "3.27542\n",
      "4.49776\n",
      "['121_at' 'PAX8' '7.62111' '7.0994' '7.94294' '7.60755' '7.90653'\n",
      " '6.80387' '7.74351' '7.47744' '7.53575' '7.68504' '7.49126' '7.76188'\n",
      " '7.35098' '7.57658' '7.09422' '7.29822' '7.1497' '7.20392' '7.63824'\n",
      " '7.49124' '8.22107' '7.46194' '7.07908' '6.66564' '7.55594' '7.22986'\n",
      " '7.42081' '6.99934' '7.09449' '7.02433' '7.17929' '7.1599' '7.00998'\n",
      " '6.83098' '7.20862' '7.21843' '6.9481' '6.77158' '6.83915' '6.99341'\n",
      " '7.14967' '7.15619' '6.95498' '6.81985' '6.82583' '7.2438' '7.25609'\n",
      " '7.30733' '7.29586' '7.45747' '7.63463' '7.6154' '8.01982' '7.52725'\n",
      " '7.55083' '7.28955' '6.93698' '7.13647' '7.13442' '7.28159' '7.10976'\n",
      " '7.11019' '7.09445' '7.09615']\n",
      "['GSM239520' '2.73863' '6.81105' ... '2.65068' '2.14404' '2.85576']\n"
     ]
    }
   ],
   "source": [
    "print(data[1,2])\n",
    "print(data[3,5]) # élément de data à l'intersection de la 3ème ligne et 5ème colonne\n",
    "print(data[4,:]) # ligne 4 de data = un gène en particulier\n",
    "print(data[:,7]) # colonne 7 de data = une condition en particulier !! imprimée sur une ligne, mais c'est une colonne !!"
   ]
  },
  {
   "cell_type": "markdown",
   "metadata": {},
   "source": [
    "<p style=\"background-color:#AFEEEE;padding:3px\"><font size=\"4\"><b>1.2 </b></font>Quelle commande devez-vous écrire pour afficher la liste des ID_REF? Et la liste des IDENTIFIER?</p>"
   ]
  },
  {
   "cell_type": "code",
   "execution_count": 30,
   "metadata": {},
   "outputs": [
    {
     "data": {
      "text/plain": [
       "0        ID_REF\n",
       "1     1007_s_at\n",
       "2       1053_at\n",
       "3        117_at\n",
       "4        121_at\n",
       "5     1255_g_at\n",
       "6       1294_at\n",
       "7       1316_at\n",
       "8       1320_at\n",
       "9     1405_i_at\n",
       "10      1431_at\n",
       "Name: 0, dtype: object"
      ]
     },
     "execution_count": 30,
     "metadata": {},
     "output_type": "execute_result"
    }
   ],
   "source": [
    "#Votre code\n",
    "df = pd.DataFrame(data.T)\n",
    "df.iloc[0].head(11)"
   ]
  },
  {
   "cell_type": "code",
   "execution_count": 31,
   "metadata": {},
   "outputs": [
    {
     "data": {
      "text/plain": [
       "0     IDENTIFIER\n",
       "1           DDR1\n",
       "2           RFC2\n",
       "3          HSPA6\n",
       "4           PAX8\n",
       "5         GUCA1A\n",
       "6           UBA7\n",
       "7           THRA\n",
       "8         PTPN21\n",
       "9           CCL5\n",
       "10        CYP2E1\n",
       "Name: 1, dtype: object"
      ]
     },
     "execution_count": 31,
     "metadata": {},
     "output_type": "execute_result"
    }
   ],
   "source": [
    "df.iloc[1].head(11)"
   ]
  },
  {
   "cell_type": "markdown",
   "metadata": {},
   "source": [
    "<b>→ A présent, visualisez id_cond </b>"
   ]
  },
  {
   "cell_type": "code",
   "execution_count": 32,
   "metadata": {
    "scrolled": true
   },
   "outputs": [
    {
     "data": {
      "text/plain": [
       "{'GSM239323': 'bone marrow',\n",
       " 'GSM239324': 'bone marrow',\n",
       " 'GSM239326': 'bone marrow',\n",
       " 'GSM239328': 'bone marrow',\n",
       " 'GSM239329': 'bone marrow',\n",
       " 'GSM239331': 'bone marrow',\n",
       " 'GSM239332': 'bone marrow',\n",
       " 'GSM239333': 'bone marrow',\n",
       " 'GSM239334': 'bone marrow',\n",
       " 'GSM239335': 'bone marrow',\n",
       " 'GSM239371': 'bone marrow',\n",
       " 'GSM239487': 'bone marrow',\n",
       " 'GSM239489': 'bone marrow',\n",
       " 'GSM239492': 'bone marrow',\n",
       " 'GSM239497': 'bone marrow',\n",
       " 'GSM239520': 'bone marrow',\n",
       " 'GSM240427': 'bone marrow',\n",
       " 'GSM240430': 'peripheral blood',\n",
       " 'GSM240431': 'peripheral blood',\n",
       " 'GSM240432': 'peripheral blood',\n",
       " 'GSM240433': 'peripheral blood',\n",
       " 'GSM240494': 'peripheral blood',\n",
       " 'GSM240495': 'peripheral blood',\n",
       " 'GSM240496': 'peripheral blood',\n",
       " 'GSM240497': 'peripheral blood',\n",
       " 'GSM240498': 'peripheral blood',\n",
       " 'GSM240499': 'peripheral blood',\n",
       " 'GSM239516': 'peripheral blood',\n",
       " 'GSM239345': 'peripheral blood',\n",
       " 'GSM239346': 'peripheral blood',\n",
       " 'GSM239348': 'peripheral blood',\n",
       " 'GSM239363': 'peripheral blood',\n",
       " 'GSM239460': 'peripheral blood',\n",
       " 'GSM239485': 'peripheral blood',\n",
       " 'GSM239488': 'peripheral blood',\n",
       " 'GSM239490': 'peripheral blood',\n",
       " 'GSM239491': 'peripheral blood',\n",
       " 'GSM239493': 'peripheral blood',\n",
       " 'GSM239494': 'peripheral blood',\n",
       " 'GSM239495': 'peripheral blood',\n",
       " 'GSM239496': 'peripheral blood',\n",
       " 'GSM239498': 'peripheral blood',\n",
       " 'GSM239580': 'peripheral blood',\n",
       " 'GSM240405': 'peripheral blood',\n",
       " 'GSM240406': 'peripheral blood',\n",
       " 'GSM240429': 'peripheral blood',\n",
       " 'GSM239170': 'bone marrow CD34plus',\n",
       " 'GSM239338': 'bone marrow CD34plus',\n",
       " 'GSM239339': 'bone marrow CD34plus',\n",
       " 'GSM239340': 'bone marrow CD34plus',\n",
       " 'GSM239341': 'bone marrow CD34plus',\n",
       " 'GSM239342': 'bone marrow CD34plus',\n",
       " 'GSM239343': 'bone marrow CD34plus',\n",
       " 'GSM239344': 'bone marrow CD34plus',\n",
       " 'GSM240500': 'PBSC CD34plus',\n",
       " 'GSM240501': 'PBSC CD34plus',\n",
       " 'GSM240502': 'PBSC CD34plus',\n",
       " 'GSM240503': 'PBSC CD34plus',\n",
       " 'GSM240504': 'PBSC CD34plus',\n",
       " 'GSM240505': 'PBSC CD34plus',\n",
       " 'GSM240506': 'PBSC CD34plus',\n",
       " 'GSM240507': 'PBSC CD34plus',\n",
       " 'GSM240508': 'PBSC CD34plus',\n",
       " 'GSM240509': 'PBSC CD34plus'}"
      ]
     },
     "execution_count": 32,
     "metadata": {},
     "output_type": "execute_result"
    }
   ],
   "source": [
    "id_cond"
   ]
  },
  {
   "cell_type": "markdown",
   "metadata": {},
   "source": [
    "<p style=\"background-color:#AFEEEE;padding:3px\"><font size=\"4\"><b>1.3 </b></font>\n",
    "Pour faciliter l'analyse des données par la suite, remplacez dans id_cond les conditions qui correspondent à des cellules cancéreuses par \"AML\"\n",
    "<p>"
   ]
  },
  {
   "cell_type": "code",
   "execution_count": 33,
   "metadata": {
    "scrolled": true
   },
   "outputs": [
    {
     "name": "stdout",
     "output_type": "stream",
     "text": [
      "Nombre de leukemia condition:  26\n",
      "['GSM239516', 'GSM239371', 'GSM239487', 'GSM239489', 'GSM239492', 'GSM239497', 'GSM239520', 'GSM240427', 'GSM239345', 'GSM239346', 'GSM239348', 'GSM239363', 'GSM239460', 'GSM239485', 'GSM239488', 'GSM239490', 'GSM239491', 'GSM239493', 'GSM239494', 'GSM239495', 'GSM239496', 'GSM239498', 'GSM239580', 'GSM240405', 'GSM240406', 'GSM240429']\n",
      "Nombre de condition:  64\n"
     ]
    }
   ],
   "source": [
    "print('Nombre de leukemia condition: ',len(leukemia_list))\n",
    "print(leukemia_list)\n",
    "print('Nombre de condition: ',len(id_cond))"
   ]
  },
  {
   "cell_type": "code",
   "execution_count": 34,
   "metadata": {},
   "outputs": [
    {
     "data": {
      "text/plain": [
       "{'GSM239323': 'bone marrow',\n",
       " 'GSM239324': 'bone marrow',\n",
       " 'GSM239326': 'bone marrow',\n",
       " 'GSM239328': 'bone marrow',\n",
       " 'GSM239329': 'bone marrow',\n",
       " 'GSM239331': 'bone marrow',\n",
       " 'GSM239332': 'bone marrow',\n",
       " 'GSM239333': 'bone marrow',\n",
       " 'GSM239334': 'bone marrow',\n",
       " 'GSM239335': 'bone marrow',\n",
       " 'GSM239371': 'AML',\n",
       " 'GSM239487': 'AML',\n",
       " 'GSM239489': 'AML',\n",
       " 'GSM239492': 'AML',\n",
       " 'GSM239497': 'AML',\n",
       " 'GSM239520': 'AML',\n",
       " 'GSM240427': 'AML',\n",
       " 'GSM240430': 'peripheral blood',\n",
       " 'GSM240431': 'peripheral blood',\n",
       " 'GSM240432': 'peripheral blood',\n",
       " 'GSM240433': 'peripheral blood',\n",
       " 'GSM240494': 'peripheral blood',\n",
       " 'GSM240495': 'peripheral blood',\n",
       " 'GSM240496': 'peripheral blood',\n",
       " 'GSM240497': 'peripheral blood',\n",
       " 'GSM240498': 'peripheral blood',\n",
       " 'GSM240499': 'peripheral blood',\n",
       " 'GSM239516': 'AML',\n",
       " 'GSM239345': 'AML',\n",
       " 'GSM239346': 'AML',\n",
       " 'GSM239348': 'AML',\n",
       " 'GSM239363': 'AML',\n",
       " 'GSM239460': 'AML',\n",
       " 'GSM239485': 'AML',\n",
       " 'GSM239488': 'AML',\n",
       " 'GSM239490': 'AML',\n",
       " 'GSM239491': 'AML',\n",
       " 'GSM239493': 'AML',\n",
       " 'GSM239494': 'AML',\n",
       " 'GSM239495': 'AML',\n",
       " 'GSM239496': 'AML',\n",
       " 'GSM239498': 'AML',\n",
       " 'GSM239580': 'AML',\n",
       " 'GSM240405': 'AML',\n",
       " 'GSM240406': 'AML',\n",
       " 'GSM240429': 'AML',\n",
       " 'GSM239170': 'bone marrow CD34plus',\n",
       " 'GSM239338': 'bone marrow CD34plus',\n",
       " 'GSM239339': 'bone marrow CD34plus',\n",
       " 'GSM239340': 'bone marrow CD34plus',\n",
       " 'GSM239341': 'bone marrow CD34plus',\n",
       " 'GSM239342': 'bone marrow CD34plus',\n",
       " 'GSM239343': 'bone marrow CD34plus',\n",
       " 'GSM239344': 'bone marrow CD34plus',\n",
       " 'GSM240500': 'PBSC CD34plus',\n",
       " 'GSM240501': 'PBSC CD34plus',\n",
       " 'GSM240502': 'PBSC CD34plus',\n",
       " 'GSM240503': 'PBSC CD34plus',\n",
       " 'GSM240504': 'PBSC CD34plus',\n",
       " 'GSM240505': 'PBSC CD34plus',\n",
       " 'GSM240506': 'PBSC CD34plus',\n",
       " 'GSM240507': 'PBSC CD34plus',\n",
       " 'GSM240508': 'PBSC CD34plus',\n",
       " 'GSM240509': 'PBSC CD34plus'}"
      ]
     },
     "execution_count": 34,
     "metadata": {},
     "output_type": "execute_result"
    }
   ],
   "source": [
    "# Votre code\n",
    "for _, item in enumerate(id_cond.items()):\n",
    "    key = item[0]\n",
    "    if key in leukemia_list:\n",
    "        id_cond[key] = \"AML\"\n",
    "id_cond"
   ]
  },
  {
   "cell_type": "markdown",
   "metadata": {},
   "source": [
    "<b>→ Les préparatifs sont presque prêts: divisez votre set de données en \"train\" et \"test\" sets, afin de pouvoir valider la performance de vos prédictions par la suite.</b>"
   ]
  },
  {
   "cell_type": "code",
   "execution_count": 35,
   "metadata": {},
   "outputs": [
    {
     "name": "stdout",
     "output_type": "stream",
     "text": [
      "Data original:  (22284, 66)\n",
      "Data training:  (22284, 60)\n",
      "Data test: (22284, 6)\n",
      "[['GSM239492' 'GSM239348' 'GSM239494' 'GSM239323' 'GSM239343' 'GSM240505']\n",
      " ['2.99698' '3.00789' '2.97973' '3.28567' '3.44604' '3.04886']\n",
      " ['6.94238' '7.60317' '6.38047' '6.53251' '7.53848' '6.63174']\n",
      " ...\n",
      " ['2.96658' '2.98101' '3.05757' '3.21657' '3.33805' '2.87227']\n",
      " ['2.30852' '2.33496' '2.37392' '2.4082' '2.5612' '2.30053']\n",
      " ['2.96273' '3.03514' '3.07864' '3.11119' '3.22936' '2.95236']]\n"
     ]
    }
   ],
   "source": [
    "print('Data original: ',np.shape(data))\n",
    "#print(np.shape(data_test))\n",
    "\n",
    "# divide the set into two sets: a train set and a test set for future validations\n",
    "idx_test = [5,11,19,28,54,61]\n",
    "idx_train = list(range(0,len(id_cond)+2))\n",
    "\n",
    "[idx_train.remove(i) for i in idx_test]\n",
    "\n",
    "data_test = data[:,idx_test]\n",
    "data = data[:,idx_train]\n",
    "\n",
    "print('Data training: ',np.shape(data))\n",
    "print('Data test:', np.shape(data_test))\n",
    "\n",
    "print(data_test)"
   ]
  },
  {
   "cell_type": "markdown",
   "metadata": {},
   "source": [
    "<b>→ Finalement, afin de mieux visualiser les données par la suite, ordonnez-les en fonction du type cellulaire et associez une couleur à chaque type cellulaire</b>"
   ]
  },
  {
   "cell_type": "code",
   "execution_count": 36,
   "metadata": {},
   "outputs": [
    {
     "name": "stdout",
     "output_type": "stream",
     "text": [
      "cell_type:\t\t['AML', 'PBSC CD34plus', 'peripheral blood', 'bone marrow CD34plus', 'bone marrow']\n",
      "\n",
      "re-ordered cell_type:\t['PBSC CD34plus', 'peripheral blood', 'bone marrow CD34plus', 'bone marrow', 'AML']\n",
      "elements_cell_type[51, 52, 53, 54, 55, 56, 57, 58, 59]\n",
      "elements_cell_type[34, 35, 36, 37, 38, 39, 40, 41, 42, 43]\n",
      "elements_cell_type[44, 45, 46, 47, 48, 49, 50]\n",
      "elements_cell_type[25, 26, 27, 28, 29, 30, 31, 32, 33]\n",
      "elements_cell_type[2, 3, 4, 5, 6, 7, 8, 9, 10, 11, 12, 13, 14, 15, 16, 17, 18, 19, 20, 21, 22, 23, 24]\n",
      "\n",
      "idx_cell_type:\t[0, 1, 51, 52, 53, 54, 55, 56, 57, 58, 59, 34, 35, 36, 37, 38, 39, 40, 41, 42, 43, 44, 45, 46, 47, 48, 49, 50, 25, 26, 27, 28, 29, 30, 31, 32, 33, 2, 3, 4, 5, 6, 7, 8, 9, 10, 11, 12, 13, 14, 15, 16, 17, 18, 19, 20, 21, 22, 23, 24]\n",
      "\n",
      "colors_cell_type:\t['c', 'c', 'c', 'c', 'c', 'c', 'c', 'c', 'c', 'g', 'g', 'g', 'g', 'g', 'g', 'g', 'g', 'g', 'g', 'r', 'r', 'r', 'r', 'r', 'r', 'r', 'b', 'b', 'b', 'b', 'b', 'b', 'b', 'b', 'b', 'k', 'k', 'k', 'k', 'k', 'k', 'k', 'k', 'k', 'k', 'k', 'k', 'k', 'k', 'k', 'k', 'k', 'k', 'k', 'k', 'k', 'k', 'k']\n",
      "(22284, 60)\n",
      "['ID_REF' 'IDENTIFIER' 'GSM240500' 'GSM240501' 'GSM240502' 'GSM240503'\n",
      " 'GSM240504' 'GSM240506' 'GSM240507' 'GSM240508' 'GSM240509' 'GSM240430'\n",
      " 'GSM240431' 'GSM240432' 'GSM240433' 'GSM240494' 'GSM240495' 'GSM240496'\n",
      " 'GSM240497' 'GSM240498' 'GSM240499' 'GSM239170' 'GSM239338' 'GSM239339'\n",
      " 'GSM239340' 'GSM239341' 'GSM239342' 'GSM239344' 'GSM239324' 'GSM239326'\n",
      " 'GSM239328' 'GSM239329' 'GSM239331' 'GSM239332' 'GSM239333' 'GSM239334'\n",
      " 'GSM239335' 'GSM239371' 'GSM239487' 'GSM239489' 'GSM239497' 'GSM239520'\n",
      " 'GSM240427' 'GSM239345' 'GSM239346' 'GSM239363' 'GSM239460' 'GSM239485'\n",
      " 'GSM239488' 'GSM239490' 'GSM239491' 'GSM239493' 'GSM239495' 'GSM239496'\n",
      " 'GSM239498' 'GSM239516' 'GSM239580' 'GSM240405' 'GSM240406' 'GSM240429']\n"
     ]
    }
   ],
   "source": [
    "# cell types\n",
    "cell_type = list(set(id_cond.values()))\n",
    "print('cell_type:\\t\\t'+str(cell_type))\n",
    "\n",
    "# order cell_type so that AML (= leukemia = cancer cells) appears at the end\n",
    "cell_type.remove('AML')\n",
    "cell_type.append('AML')\n",
    "print('\\nre-ordered cell_type:\\t'+str(cell_type))\n",
    "\n",
    "# idx_cell_type will be used to re-order the columns of data as a function of cell_type\n",
    "idx_cell_type = [0,1] # we don't want to re-order the first two columns (= gene name and identifier)\n",
    "\n",
    "# colors will be used when plotting the data (each cell type has a corresponding color)\n",
    "unique_colors = ['c','g','r','b','k']\n",
    "colors_cell_type = [] \n",
    "\n",
    "# for every type in cell_type, find the corresponding colums in data and add them to idx_cell_type\n",
    "for j,ct in enumerate(cell_type):\n",
    "    #commence à 2 colonne pour ne pas prendre les deux premiere non des gene et identifier\n",
    "    #si la condition est bonne garde la position i + 2 pour pas prendre en compte les deux premières colonnes\n",
    "    elements_cell_type = [ i+2 for i,c in enumerate(data[0,2:]) if id_cond[c]==ct]\n",
    "    print('elements_cell_type'+str(elements_cell_type))\n",
    "    idx_cell_type.extend(elements_cell_type)\n",
    "    colors_cell_type.extend(unique_colors[j]*len(elements_cell_type))\n",
    "print('\\nidx_cell_type:\\t'+str(idx_cell_type))    \n",
    "print('\\ncolors_cell_type:\\t'+str(colors_cell_type))\n",
    "\n",
    "# re-order columns of data (= conditions) with idx_cell_type\n",
    "data = data[:,idx_cell_type]\n",
    "print(data.shape)\n",
    "print(data[0,:])"
   ]
  },
  {
   "cell_type": "markdown",
   "metadata": {},
   "source": [
    "<b>→ Visualisez l'expression du gène PBX1 (212148_at) sur toutes les conditions, colorées en fonction du type cellulaire:</b>"
   ]
  },
  {
   "cell_type": "code",
   "execution_count": 37,
   "metadata": {},
   "outputs": [
    {
     "data": {
      "text/plain": [
       "11534"
      ]
     },
     "execution_count": 37,
     "metadata": {},
     "output_type": "execute_result"
    },
    {
     "data": {
      "image/png": "[encoded data removed]",
      "text/plain": [
       "<Figure size 640x480 with 1 Axes>"
      ]
     },
     "metadata": {},
     "output_type": "display_data"
    }
   ],
   "source": [
    "def mean_expression_leukemia_normal(data,colors_cell_type):\n",
    "    \n",
    "    data_leukemia = [float(data[i]) for i,c in enumerate(colors_cell_type) if c=='k']\n",
    "    data_normal = [float(data[i]) for i,c in enumerate(colors_cell_type) if c!='k']\n",
    "    \n",
    "    return (np.nanmean(data_normal),np.nanmean(data_leukemia))\n",
    "\n",
    "def plot_gene_expression_across_conditions(data,gene,cell_type,colors_cell_type):\n",
    "    \n",
    "    # find the line in data corresponding to our gene of interest and get the gene expression levels\n",
    "    idx_gene = [i for i,x in enumerate(data[:,0]) if x==gene][0]\n",
    "    data_to_show = (data[idx_gene,2:]).tolist() # remove the first two elements corresponding to gene name and identifier\n",
    "    data_to_show = np.array(data_to_show,dtype=float) # convert to float\n",
    "    \n",
    "    # plot the data\n",
    "    fig, ax = plt.subplots()\n",
    "    plt.bar(range(0,len(data_to_show)),data_to_show,color=colors_cell_type)\n",
    "    plt.title(data[idx_gene,1]+'  ( '+data[idx_gene,0]+' )')\n",
    "    ax.set_xticks([5,15,23,31,47])\n",
    "    ax.set_xticklabels([ct.replace(' ','\\n').replace('plus','+') for ct in cell_type])\n",
    "    ax.set_ylabel('Expression du gene (u.a.)')\n",
    "\n",
    "    # represent the mean gene expression in normal and cancer cells with a dashed line\n",
    "    (mean_normal, mean_leukemia) = mean_expression_leukemia_normal(data_to_show,colors_cell_type)\n",
    "    plt.hlines(mean_leukemia,35,57,linestyles='--',color=[0.3,0.3,0.3],lw=3) # draw a line to show mean(expression of cancer cells)\n",
    "    plt.hlines(mean_normal,0,36,linestyles='--',lw=3) # draw a line to show mean(expression of normal cells)\n",
    "    \n",
    "    return idx_gene\n",
    "\n",
    "# gene of interest\n",
    "gene = '212148_at' \n",
    "plot_gene_expression_across_conditions(data,gene,cell_type,colors_cell_type)"
   ]
  },
  {
   "cell_type": "markdown",
   "metadata": {},
   "source": [
    "Vous pouvez observer que l'expression du gène PBX1 est en moyenne plus élevée dans les cellules normales (en couleur, environ 5[a.u.]) que dans les cellules cancéreuses (AML, en noir, environ 2[a.u.]).\n",
    "\n",
    "- 1 point par question:\n"
   ]
  },
  {
   "cell_type": "markdown",
   "metadata": {},
   "source": [
    "<p style=\"background-color:#AFEEEE;padding:3px\"><font size=\"4\"><b>1.4 </b></font>\n",
    "<b>(a)</b> A vue d'oeil,est-ce que l'expression du gène PBX1 est significativement différente dans les cellules cancéreuses (AML, en noir) vs. les cellules normales du type \"peripheral blood\" (en bleue)? \n",
    "</p>"
   ]
  },
  {
   "cell_type": "markdown",
   "metadata": {},
   "source": [
    "**(a)** <font color=\"orange\"><b>Non, car les deux sont à environ 2\\[a.u.\\]</b></font>"
   ]
  },
  {
   "cell_type": "markdown",
   "metadata": {},
   "source": [
    "<p style=\"background-color:#AFEEEE;padding:3px\"><font size=\"4\"><b>1.4 </b></font>\n",
    "<b>(b)</b> A votre avis, si un médicament parvenait à augmenter l'expression du gène PBX1 dans les cellules cancéreuses à une valeur d'environ 5[u.a], est-ce qu'on serait en droit de penser que ces cellules sont à présent plus \"normales\"? Justifiez brièvement.\n",
    "</p>"
   ]
  },
  {
   "cell_type": "markdown",
   "metadata": {},
   "source": [
    "**(b)** <font color=\"orange\"><b>Non, l'augmentation d'un gène ne signifie pas que c'est \"normal\"</b></font>"
   ]
  },
  {
   "cell_type": "markdown",
   "metadata": {},
   "source": [
    "<p style=\"background-color:#AFEEEE;padding:3px\"><font size=\"4\"><b>1.4 </b></font>\n",
    "<b>(c)</b> Par conséquent, est-ce qu'un test statistique basé sur la comparaison de l'expression moyenne d'un gène dans les cellules cancéreuses vs. dans les cellules normales (tous types cellulaires confondus) serait une bonne approche pour identifier un gène candidat comme cible d'un médicament? Justifiez brièvement.\n",
    "</p>"
   ]
  },
  {
   "cell_type": "markdown",
   "metadata": {},
   "source": [
    "**(c)** <font color=\"orange\"><b>Non, il vaut mieux comparer les cellules cancéreuses avec un type de cellule normale plus \"proche\" pour trouver une cible de médicament plus précise</b></font>"
   ]
  },
  {
   "cell_type": "markdown",
   "metadata": {},
   "source": [
    "<b>→A présent, visualisez l'expression du gène 206067_s_at</b>\n",
    "<p style=\"background-color:#AFEEEE;padding:3px\"><font size=\"4\"><b>1.5 </b></font>\n",
    "Est-ce que le gène WT1 serait un meilleur candidat que PBX1 comme cible d'un médicament? Justifiez brièvement.\n",
    "<p>"
   ]
  },
  {
   "cell_type": "code",
   "execution_count": 38,
   "metadata": {},
   "outputs": [
    {
     "data": {
      "text/plain": [
       "5593"
      ]
     },
     "execution_count": 38,
     "metadata": {},
     "output_type": "execute_result"
    },
    {
     "data": {
      "image/png": "[encoded data removed]",
      "text/plain": [
       "<Figure size 640x480 with 1 Axes>"
      ]
     },
     "metadata": {},
     "output_type": "display_data"
    }
   ],
   "source": [
    "gene = '206067_s_at'\n",
    "plot_gene_expression_across_conditions(data,gene,cell_type,colors_cell_type)"
   ]
  },
  {
   "cell_type": "markdown",
   "metadata": {},
   "source": [
    "<font color=\"orange\"><b>Les cellules normales sont toutes au même niveau, 4\\[a.u.\\], alors que les cellules AML sont plus hautes. Je pense que c'est un bon candidat pour un médicament</b></font>"
   ]
  },
  {
   "cell_type": "markdown",
   "metadata": {},
   "source": [
    "## 2a. Cibles thérapeutiques: Identifier des gènes candidats à l'aide de la corrélation\n",
    "\n",
    "Dans cette partie, vous allez identifier des gènes exprimés différentiellement dans les cellules cancéreuses versus les cellules normales (tous types confondus) à l'aide de la corrélation. \n",
    "\n",
    "<b>→ Pour cela, vous allez comparer l'expression de chaque gène avec celle du profil d'expression \"desired_profile\":</b>"
   ]
  },
  {
   "cell_type": "code",
   "execution_count": 39,
   "metadata": {},
   "outputs": [
    {
     "name": "stdout",
     "output_type": "stream",
     "text": [
      "desired_profile = [0, 0, 0, 0, 0, 0, 0, 0, 0, 0, 0, 0, 0, 0, 0, 0, 0, 0, 0, 0, 0, 0, 0, 0, 0, 0, 0, 0, 0, 0, 0, 0, 0, 0, 0, 1, 1, 1, 1, 1, 1, 1, 1, 1, 1, 1, 1, 1, 1, 1, 1, 1, 1, 1, 1, 1, 1, 1]\n"
     ]
    }
   ],
   "source": [
    "desired_profile = [1 if id_cond[s]=='AML' else 0 for s in data[0,2:]]\n",
    "print('desired_profile = '+str(desired_profile))"
   ]
  },
  {
   "cell_type": "markdown",
   "metadata": {},
   "source": [
    "<b>→ Représentez graphiquement desired_profile.</b>"
   ]
  },
  {
   "cell_type": "code",
   "execution_count": 40,
   "metadata": {},
   "outputs": [
    {
     "data": {
      "text/plain": [
       "(22284, 60)"
      ]
     },
     "execution_count": 40,
     "metadata": {},
     "output_type": "execute_result"
    },
    {
     "data": {
      "image/png": "[encoded data removed]",
      "text/plain": [
       "<Figure size 640x480 with 1 Axes>"
      ]
     },
     "metadata": {},
     "output_type": "display_data"
    },
    {
     "data": {
      "image/png": "[encoded data removed]",
      "text/plain": [
       "<Figure size 640x480 with 1 Axes>"
      ]
     },
     "metadata": {},
     "output_type": "display_data"
    },
    {
     "data": {
      "image/png": "[encoded data removed]",
      "text/plain": [
       "<Figure size 640x480 with 1 Axes>"
      ]
     },
     "metadata": {},
     "output_type": "display_data"
    }
   ],
   "source": [
    "fig = plt.figure()\n",
    "\n",
    "# plot desired_profile\n",
    "plt.plot(desired_profile)\n",
    "plt.ylim([-0.1,1.1])\n",
    "plt.xlim([0,len(desired_profile)])\n",
    "plt.title('Desired profile')\n",
    "\n",
    "# plot also gene expression data for a couple of genes to compare with desired_profile\n",
    "plot_gene_expression_across_conditions(data,'206067_s_at',cell_type,colors_cell_type)\n",
    "plot_gene_expression_across_conditions(data,'204655_at',cell_type, colors_cell_type)\n",
    "\n",
    "np.shape(data)"
   ]
  },
  {
   "cell_type": "markdown",
   "metadata": {},
   "source": [
    "<p style=\"background-color:#AFEEEE;padding:3px\"><font size=\"4\"><b>2.1 </b></font>\n",
    "A votre avis, est-ce que l'expression du gène WT1 sera significativement corrélée avec desired_profile? Et l'expression du gène CCL5? (Justifiez brièvement)\n",
    "<p>"
   ]
  },
  {
   "cell_type": "markdown",
   "metadata": {},
   "source": [
    "<font color=\"orange\"><b>Oui, car ça ressemble plus à `desired_profile`, CCL5 ne ressemble pas du tout au profil</b></font>"
   ]
  },
  {
   "cell_type": "markdown",
   "metadata": {},
   "source": [
    "Afin de formaliser cette \"similarité\", vous allez utiliser la <a href=\"https://en.wikipedia.org/wiki/Correlation_and_dependence\">corrélation de Pearson</a> (une valeur proche de 1 signifie que les variables sont très corrélées, une valeur proche de -1 que les valeurs sont inversément corrélées, et une valeur autour de zéro que les variables ne sont pas corrélées).\n",
    "\n",
    "<b>→ Calculez la corrélation de Pearson pour chaque gène présent dans le set de données et faites une représentation graphique.</b>"
   ]
  },
  {
   "cell_type": "code",
   "execution_count": 41,
   "metadata": {},
   "outputs": [
    {
     "data": {
      "image/png": "[encoded data removed]",
      "text/plain": [
       "<Figure size 640x480 with 1 Axes>"
      ]
     },
     "metadata": {},
     "output_type": "display_data"
    },
    {
     "data": {
      "image/png": "[encoded data removed]",
      "text/plain": [
       "<Figure size 640x480 with 1 Axes>"
      ]
     },
     "metadata": {},
     "output_type": "display_data"
    }
   ],
   "source": [
    "def pearson_genes(data,desired_profile,show_plot=1):\n",
    "\n",
    "    import scipy.stats as ss\n",
    "\n",
    "    \n",
    "    correl = [] # contains the correlation for each gene\n",
    "    correl_p  = [] # for now, do not try to understand what correl_p is...\n",
    "    \n",
    "    # loop over genes\n",
    "    for i in range(np.shape(data)[0]-1): # do not consider first line of data (=header)\n",
    "        \n",
    "        gene_expression = data[i+1,2:] # do not consider first two columns (= gene identifiers)\n",
    "        gene_expression = np.array(gene_expression,dtype=float) # convert to float\n",
    "        \n",
    "        pearson_corr = ss.pearsonr(gene_expression,desired_profile) # calculate Pearson correlation\n",
    "        correl.append(pearson_corr[0])\n",
    "        correl_p.append(pearson_corr[1]) # forget about this for now...\n",
    "        \n",
    "    correl = np.array(correl,dtype=float) # convert to array... easier to manipulate\n",
    "    \n",
    "    # plot correlation values\n",
    "    if show_plot:\n",
    "        fig = plt.figure()\n",
    "        plt.plot(correl,'bo', alpha=0.5)\n",
    "        plt.ylim([-1,1])\n",
    "        plt.xlim([0,len(correl)])\n",
    "        plt.xlabel('Gene index')\n",
    "        plt.ylabel('Pearson correlation')\n",
    "        plt.show()\n",
    "        \n",
    "        plt.figure()\n",
    "        plt.hist(correl)\n",
    "        plt.xlabel('Pearson correlation')\n",
    "        plt.ylabel('Counts')\n",
    "        plt.xlim([-1,1])\n",
    "        plt.show()\n",
    "\n",
    "    return (correl,correl_p)\n",
    "\n",
    "co = pearson_genes(data,desired_profile)\n",
    "corr = co[0]"
   ]
  },
  {
   "cell_type": "markdown",
   "metadata": {},
   "source": [
    "Comme vous le voyez, les valeurs de corrélation sont comprises entre [-1,1], avec une plus grosse densité autour de zéro. L'histogramme vous permet même de voir plus précisément qu'en fait, la majorité des valeurs de corrélation sont plutôt autour de 0.2. \n",
    "\n",
    "A présent, votre but est d'identifier les gènes qui sont <i><b>significativement</b></i> corrélés (ou inversément corrélés) avec desired_profile. Une approche naïve consisterait à trier les gènes en fonction de leur corrélation pour ne garder que les \"meilleurs\". Se pose alors une question: combien de gènes garde-t-on? Doit-on éliminer tous ceux dont la valeur absolue de corrélation est plus petite que 0.5? Ou 0.75? Comment décider du seuil? \n",
    "\n",
    "Afin de résoudre ce problème, posez-vous la question suivante: si notre set de données ne contenait <i>aucune</i> information, quelles valeurs de corrélation s'attendrait-on à obtenir? Naïvement, on pourrait penser que la corrélation serait toujours nulle. En réalité, elle sera <i> majoritairement </i> nulle, mais parfois, par pur hasard, même une assez grande valeur de corrélation pourrait être obtenue.\n",
    "\n",
    "Pour le vérifier, vous allez randomiser les colonnes du set de données et voir quelles valeurs de corrélation seraient obtenues dans ce cas. Par randomisation des colonnes, on veut dire qu'une condition qui était préalablement labélisée \"AML\" pourrait maintenant être labélisée \"bone marrow\" à la place. Par conséquent, on s'attend à ce que les mesures de corrélation soient bien plus mauvaises avec ces données randomisées... puisque l'information utile a été randomisée. \n",
    "\n",
    "Si jamais vous observiez que la distribution des corrélations randomisée est très similaire à la distribution des corrélations non-randomisées, c'est que le set de données ne contient pas plus d'information que du bruit! "
   ]
  },
  {
   "cell_type": "markdown",
   "metadata": {},
   "source": [
    "<b>→ Commencez par générer des données randomisées à partir de notre set de données</b>"
   ]
  },
  {
   "cell_type": "code",
   "execution_count": 42,
   "metadata": {},
   "outputs": [
    {
     "name": "stdout",
     "output_type": "stream",
     "text": [
      "['117_at' 'HSPA6' '4.51884' '4.19324' '4.06188'] = un gène NON randomisé\n",
      "['117_at' 'HSPA6' '4.99873' '9.16137' '8.79347'] = le même gène avec les conditions randomisées\n"
     ]
    }
   ],
   "source": [
    "def shuffle_data(data):\n",
    "    \n",
    "    from random import shuffle\n",
    "    \n",
    "    # get shuffled columns indexes\n",
    "    shuffled_idx = list(range(2,np.shape(data)[1])) # ! do not shuffle the first two colums (= gene identifiers)\n",
    "    shuffle(shuffled_idx) # shuffled_idx is now shuffled\n",
    "    shuffled_idx.insert(0,0)\n",
    "    shuffled_idx.insert(1,1)\n",
    "\n",
    "    # use shuffled_idx to randomize the columns of data\n",
    "    data_random = data[:,shuffled_idx]\n",
    "    data_random[0,:] = data[0,:] # put label conditons on top again\n",
    "\n",
    "    return data_random\n",
    "    \n",
    "data_random = shuffle_data(data)\n",
    "print(str(data[3,0:5])+' = un gène NON randomisé')\n",
    "print(str(data_random[3,0:5])+' = le même gène avec les conditions randomisées')"
   ]
  },
  {
   "cell_type": "markdown",
   "metadata": {},
   "source": [
    "<p style=\"background-color:#AFEEEE;padding:3px\"><font size=\"4\"><b>2.2 </b></font>\n",
    "A l'aide de la fonction plt.hist(), comparez la distribution des corrélations dans le set randomisé vs. non-randomisé. Astuce: représentez les deux distributions sur le même graphique, avec des couleurs différentes.\n",
    "<p>"
   ]
  },
  {
   "cell_type": "code",
   "execution_count": 44,
   "metadata": {},
   "outputs": [],
   "source": [
    "co = pearson_genes(data,desired_profile, 0)\n",
    "corr1 = co[0]\n",
    "\n",
    "co = pearson_genes(data_random,desired_profile, 0)\n",
    "corr2 = co[0]"
   ]
  },
  {
   "cell_type": "code",
   "execution_count": 68,
   "metadata": {},
   "outputs": [
    {
     "data": {
      "image/png": "[encoded data removed]",
      "text/plain": [
       "<Figure size 640x480 with 1 Axes>"
      ]
     },
     "metadata": {},
     "output_type": "display_data"
    }
   ],
   "source": [
    "plt.title(\"desired_profile correlation\")\n",
    "plt.hist(corr1, label=\"data\", color='firebrick', alpha=0.7)\n",
    "plt.hist(corr2, label=\"data_random\", color='dodgerblue', alpha=0.7)\n",
    "plt.xlim(-1, 1)\n",
    "plt.legend()\n",
    "plt.show()"
   ]
  },
  {
   "cell_type": "markdown",
   "metadata": {},
   "source": [
    "<p style=\"background-color:#AFEEEE;padding:3px\"><font size=\"4\"><b>2.3 </b></font>\n",
    "A votre avis, est-ce que le set de données contient de l'information? Justifiez brièvement.\n",
    "<p>"
   ]
  },
  {
   "cell_type": "markdown",
   "metadata": {},
   "source": [
    "<font color=\"orange\"><b>Les données réelles sont contient plus d'information que celui des données aléatoires car le mode de la corrélation est plus haute</b></font>"
   ]
  },
  {
   "cell_type": "markdown",
   "metadata": {},
   "source": [
    "Et maintenant? Pour chaque gène, vous avez une valeur de corrélation \"observée (réelle)\" et une valeur de corrélation \"random\". Vous pourriez donc être tenté de comparer ces deux valeurs pour ne garder que les gènes qui ont une valeur de corrélation observée plus grande que la valeur random... Mais ceci reviendrait à supposer que la valeur de corrélation random est fixée une fois pour toutes... alors qu'en fait, à chaque fois que vous allez randomiser le set de données, vous allez trouver une autre valeur de corrélation random pour chaque gène. Afin de faire des comparaisons qui aient du sens, il faudrait donc connaître, pour chaque gène, la distribution des valeurs de corrélation random, et comparer la valeur de corrélation réelle à cette distribution.\n",
    "\n",
    "<p style=\"background-color:#AFEEEE;padding:3px\"><font size=\"4\"><b>2.4 </b></font>\n",
    "Répétez la randomisation 10 fois: à chaque fois, calculez la corrélation à l'aide de la fonction pearson_corr().\n",
    "<p>"
   ]
  },
  {
   "cell_type": "code",
   "execution_count": 79,
   "metadata": {},
   "outputs": [],
   "source": [
    "#Votre code...\n",
    "# REPRENDRE ICI\n",
    "correlations = []\n",
    "for i in range(10):\n",
    "    pass"
   ]
  },
  {
   "cell_type": "code",
   "execution_count": 78,
   "metadata": {},
   "outputs": [
    {
     "data": {
      "text/plain": [
       "[]"
      ]
     },
     "execution_count": 78,
     "metadata": {},
     "output_type": "execute_result"
    }
   ],
   "source": [
    "correlations"
   ]
  },
  {
   "cell_type": "markdown",
   "metadata": {},
   "source": [
    "<b>→ Pour quelques gènes, représentez graphiquement la distribution des corrélations random ainsi que la valeur observée (le fichier random_correlation.npy contient des valeurs de corrélation obtenues en randomisant 1000 fois le set de données) </b>"
   ]
  },
  {
   "cell_type": "code",
   "execution_count": 74,
   "metadata": {},
   "outputs": [
    {
     "ename": "FileNotFoundError",
     "evalue": "[Errno 2] No such file or directory: './data/random_correlations.npy'",
     "output_type": "error",
     "traceback": [
      "\u001b[0;31m---------------------------------------------------------------------------\u001b[0m",
      "\u001b[0;31mFileNotFoundError\u001b[0m                         Traceback (most recent call last)",
      "Cell \u001b[0;32mIn[74], line 4\u001b[0m\n\u001b[1;32m      1\u001b[0m \u001b[38;5;28;01mfrom\u001b[39;00m\u001b[38;5;250m \u001b[39m\u001b[38;5;21;01mscipy\u001b[39;00m\u001b[38;5;21;01m.\u001b[39;00m\u001b[38;5;21;01mstats\u001b[39;00m\u001b[38;5;250m \u001b[39m\u001b[38;5;28;01mimport\u001b[39;00m norm\n\u001b[1;32m      3\u001b[0m \u001b[38;5;66;03m# load correlations from 1000 runs of randomized data\u001b[39;00m\n\u001b[0;32m----> 4\u001b[0m corr_random \u001b[38;5;241m=\u001b[39m \u001b[43mnp\u001b[49m\u001b[38;5;241;43m.\u001b[39;49m\u001b[43mload\u001b[49m\u001b[43m(\u001b[49m\u001b[38;5;124;43m'\u001b[39;49m\u001b[38;5;124;43m./data/random_correlations.npy\u001b[39;49m\u001b[38;5;124;43m'\u001b[39;49m\u001b[43m)\u001b[49m\n\u001b[1;32m      5\u001b[0m \u001b[38;5;28mprint\u001b[39m(np\u001b[38;5;241m.\u001b[39mshape(corr_random))\n\u001b[1;32m      8\u001b[0m \u001b[38;5;66;03m# show results only for these genes\u001b[39;00m\n",
      "File \u001b[0;32m~/code/BBC_Labs/.venv/lib/python3.13/site-packages/numpy/lib/_npyio_impl.py:451\u001b[0m, in \u001b[0;36mload\u001b[0;34m(file, mmap_mode, allow_pickle, fix_imports, encoding, max_header_size)\u001b[0m\n\u001b[1;32m    449\u001b[0m     own_fid \u001b[38;5;241m=\u001b[39m \u001b[38;5;28;01mFalse\u001b[39;00m\n\u001b[1;32m    450\u001b[0m \u001b[38;5;28;01melse\u001b[39;00m:\n\u001b[0;32m--> 451\u001b[0m     fid \u001b[38;5;241m=\u001b[39m stack\u001b[38;5;241m.\u001b[39menter_context(\u001b[38;5;28;43mopen\u001b[39;49m\u001b[43m(\u001b[49m\u001b[43mos\u001b[49m\u001b[38;5;241;43m.\u001b[39;49m\u001b[43mfspath\u001b[49m\u001b[43m(\u001b[49m\u001b[43mfile\u001b[49m\u001b[43m)\u001b[49m\u001b[43m,\u001b[49m\u001b[43m \u001b[49m\u001b[38;5;124;43m\"\u001b[39;49m\u001b[38;5;124;43mrb\u001b[39;49m\u001b[38;5;124;43m\"\u001b[39;49m\u001b[43m)\u001b[49m)\n\u001b[1;32m    452\u001b[0m     own_fid \u001b[38;5;241m=\u001b[39m \u001b[38;5;28;01mTrue\u001b[39;00m\n\u001b[1;32m    454\u001b[0m \u001b[38;5;66;03m# Code to distinguish from NumPy binary files and pickles.\u001b[39;00m\n",
      "\u001b[0;31mFileNotFoundError\u001b[0m: [Errno 2] No such file or directory: './data/random_correlations.npy'"
     ]
    }
   ],
   "source": [
    "from scipy.stats import norm\n",
    "\n",
    "# load correlations from 1000 runs of randomized data\n",
    "corr_random = np.load('./data/random_correlations.npy')\n",
    "print(np.shape(corr_random))\n",
    "\n",
    "\n",
    "# show results only for these genes\n",
    "idx_genes_to_show = [4181,8590,5592,17836] \n",
    "\n",
    "# plot: loop over idx_genes_to_show\n",
    "for idx in idx_genes_to_show: \n",
    "    fig = plt.figure()\n",
    "    random_correlations = corr_random[idx,:]\n",
    "    #plt.hist(random_correlations,normed=True,color='w') # ,normed=True # histogramme des valeurs de corrélation obtenues à partir des données randomisées\n",
    "    plt.hist(random_correlations,density=1,color='y')\n",
    "    \n",
    "    plt.vlines(corr[idx],0,4,'r',lw=3) # valeur observée = ligne verticale rouge\n",
    "    plt.title(data[idx+1,1]) # nom du gène\n",
    "    plt.xlim([-1,1])\n",
    "    plt.ylim([0, 4])\n",
    "    plt.xlabel('Correlation')\n",
    "    plt.ylabel('Normalized count')\n",
    "    \n",
    "    # fit gaussian to distribution of correlations from randomized data\n",
    "    xx = np.linspace(-1,1,500)\n",
    "    mu = np.mean(random_correlations)\n",
    "    sigma = np.std(random_correlations)\n",
    "    #plt.plot(xx,norm.pdf(xx,loc=mu,scale=sigma),'k-',lw=2)\n",
    "    plt.plot(xx,norm.pdf(xx,loc=mu,scale=sigma),'k-',lw=2)"
   ]
  },
  {
   "cell_type": "markdown",
   "metadata": {},
   "source": [
    "<p style=\"background-color:#AFEEEE;padding:3px\"><font size=\"4\"><b>2.5 </b></font>\n",
    "Pour chaque gène, discutez si la valeur de corrélation obtenue semble significativement différente des valeurs obtenues en randomisant les données. \n",
    "<p>"
   ]
  },
  {
   "cell_type": "markdown",
   "metadata": {},
   "source": [
    "<font color=\"orange\"><b>Votre réponse...</b></font>"
   ]
  },
  {
   "cell_type": "markdown",
   "metadata": {},
   "source": [
    "Afin de quantifier à quel point la corrélation observée est différente de la distribution des corrélations obtenue en randomisant les données, vous allez calculez la p-valeur de la corrélation observée pour chaque gène. La p-valeur est la probabilité d'obtenir, par hasard, une valeur absolue de corrélation au moins aussi grande.\n",
    "\n",
    "<b>→ Pour chaque gène, calculez la probabilité d'obtenir par hasard une valeur de corrélation aussi grande (ou plus) que la valeur absolue observée.</b> Pour vous aider à mieux comprendre ce concept, le script ci-dessous représente graphiquement la p-valeur (aire sous la courbe hachurée en noir) pour le premier gène."
   ]
  },
  {
   "cell_type": "code",
   "execution_count": null,
   "metadata": {},
   "outputs": [],
   "source": [
    "N_genes = np.shape(data)[0]-1 # number of genes in the data\n",
    "\n",
    "pval_correl = [] # p-values \n",
    "for idx in range(0,N_genes):\n",
    "    \n",
    "    # random correlation: calculate mean and standard deviation\n",
    "    random_correlations = corr_random[idx,:]\n",
    "    mean_random = np.mean(random_correlations)\n",
    "    std_random = np.std(random_correlations)\n",
    "    \n",
    "    # observed correlation\n",
    "    observed_correlation = corr[idx]\n",
    "    \n",
    "    # cdf: cumulative distribution function = integral of the gaussian distribution from -inf to observed_correlation\n",
    "    cdf = norm.cdf(observed_correlation,loc=mean_random,scale=std_random)\n",
    "    #print(cdf)\n",
    "    if cdf >= 0.5:\n",
    "        p = 1 - cdf\n",
    "    else:\n",
    "        p = cdf\n",
    "    pval_correl.append(2*p) # factor 2 because correlations can take both positive and negative values\n",
    "    #print(pval_correl)\n",
    "    \n",
    "    # show p-value visually for the first gene (p-value = area of black hatched regions under the curve)\n",
    "    if idx==0:\n",
    "        plt.figure()\n",
    "        plt.plot(xx,norm.pdf(xx,loc=mean_random,scale=std_random),'k-',lw=2)\n",
    "        plt.vlines(corr[idx],0,4 ,'r',lw=2)\n",
    "        for j in np.linspace(observed_correlation,1,int(100*(1-observed_correlation))):\n",
    "            plt.vlines(j,0,norm.pdf(j,loc=mean_random,scale=std_random),'k',lw=1)\n",
    "        for j in np.linspace(-1,-observed_correlation,int(100*(1-observed_correlation))):\n",
    "            plt.vlines(j,0,norm.pdf(j,loc=mean_random,scale=std_random),'k',lw=1)\n",
    "        plt.xlabel('Correlation')\n",
    "        plt.ylabel('Normalized count')\n",
    "        plt.show()"
   ]
  },
  {
   "cell_type": "markdown",
   "metadata": {},
   "source": [
    "Les gènes qui nous intéressent sont ceux pour lesquels la p-valeur est très petite. Mais qu'est-ce qu'une \"petite\" p-valeur? Prenons par exemple un gène qui aurait une p-valeur de 0.05. Dans notre cas, cela signifie que la probabilité que ce gène ait, <i>par hasard</i>, une valeur absolue de corrélation au moins aussi grande est égale à 5% (5%=5/100=0.05). En sciences de la vie et en médecine, il est communément admis qu'une p-valeur inférieure à 0.05 est significative... Qu'est-ce que cela signifierait dans notre cas?\n",
    "\n",
    "Dans notre cas, nous sommes en train d'effectuer 22283 tests (un test pour chaque gène). Si l'on garde un seuil pour la p-valeur de 0.05, cela représente potentiellement 1114 gènes qui pourraient avoir une p-valeur significative par pur hasard (puisqu'en tirant des valeurs de corrélation au hasard, 5% de ces valeurs seront au moins aussi grandes que la valeur de corrélation observée)! Dans le cas de tests multiples, il est donc nécessaire d'abaisser le seuil de p-valeur... Reste à savoir de combien...\n",
    "\n",
    "<b>→ Pour vous faire une idée, représentez graphiquement vos p-valeurs à l'aide d'un <a href=\"https://en.wikipedia.org/wiki/Volcano_plot_(statistics)\">\"Volcano plot\"</a>.</b>\n",
    "\n",
    "Notez que par commodité, on utilise souvent -log10(p-valeur) pour représenter les p-valeurs. Dans ce cas, \n",
    "> si $p-valeur=10^{-21}$, alors\n",
    "\n",
    "> $-log_{10}(p-valeur)=21$.\n",
    "\n",
    "Ce qui revient à dire que dans cette notation, les gènes les plus importants sont ceux dont le -log10(p-val) est le plus grand... Attention aux confusions!"
   ]
  },
  {
   "cell_type": "code",
   "execution_count": null,
   "metadata": {},
   "outputs": [],
   "source": [
    "#correspond au fichier stats.py\n",
    "# le code est donné pour des raisons de debug et pour comprendre le fonctionnement de la fonction\n",
    "\n",
    "def fdr_correction(pval,qval=0.05):\n",
    "\n",
    "    import numpy as np\n",
    "\n",
    "    # Sort p-values\n",
    "    pval_S = list(pval)\n",
    "    pval_S.sort()\n",
    "    \n",
    "   \n",
    "    # Number of observations\n",
    "    N = len(pval)\n",
    "\n",
    "    # Order (indices), in the same size as the p-values\n",
    "    idx = np.array(range(1,N+1),dtype=float)\n",
    "\n",
    "    # Line to be used as cutoff\n",
    "    cV = np.sum(1/idx)\n",
    "    \n",
    "    #problème trouvé concernant la liste vide passé à la fonction max : \n",
    "    \n",
    "    #les valeurs se trouvant dans thrline était très petite par rapport \n",
    "    #au p-valeur du coup je me suis renseigné un peu et j'ai trouvé sur ce site : \n",
    "    #https://stats.stackexchange.com/questions/285688/how-to-calculate-fdr-and-power \n",
    "    #que pour le calcul de ligne du seuil se calcule de cette manière : \n",
    "    # idx * qval / 10 \n",
    "    # --> ne fonctionne pas \n",
    "    #thrline = idx*qval/float(cV) \n",
    "    \n",
    "    thrline = idx*qval/float(N*cV)\n",
    "    print(thrline)\n",
    "    \n",
    "    #pour debug \n",
    "    #print(thrline)\n",
    "    #print([p for i,p in enumerate(pval_S)])\n",
    "    plt.figure()\n",
    "    plt.plot([p for i,p in enumerate(pval_S)])\n",
    "    plt.figure()\n",
    "    plt.plot(thrline)\n",
    "    \n",
    "    print(pval_S)\n",
    "    \n",
    "    # Find the largest pval, still under the line\n",
    "    thr = max([p for i,p in enumerate(pval_S) if p<=thrline[i]])\n",
    "\n",
    "    return thr\n",
    "\n",
    "def SAM(X,y,N_shuffle=2):\n",
    "    # X has N_genes rows and N_cond colums\n",
    "    # y refers to the classes    \n",
    "\n",
    "    from scipy import stats\n",
    "    import numpy as np\n",
    "    import matplotlib.pyplot as plt\n",
    "    from scipy.stats import t\n",
    "\n",
    "    N_genes = np.shape(X)[0]\n",
    "    N_cond = np.shape(X)[1]\n",
    "\n",
    "    idx0 = [i for i,yi in enumerate(y) if yi==0]    \n",
    "    idx1 = [i for i,yi in enumerate(y) if yi==1]    \n",
    "\n",
    "    X = np.array(X,dtype=float)\n",
    "\n",
    "    # t-test for each gene (also randomized)\n",
    "    tt = []\n",
    "    pval = []\n",
    "    tt_random = []\n",
    "    for i in range(N_genes):\n",
    "        ttest = stats.ttest_ind(X[i,idx0],X[i,idx1],equal_var=False)\n",
    "        t.append(ttest[0])\n",
    "        pval.append(ttest[1])\n",
    "        # compute N_shuffle permutations to calculate wx_random\n",
    "        tt_tmp = []\n",
    "        for j in range(0,N_shuffle):\n",
    "            X_random = shuffle_data(X)\n",
    "            tt_tmp.append(stats.ttest_ind(X_random[i,idx0],X_random[i,idx1],equal_var=False)[0])\n",
    "        tt_random.append(np.mean(tt_tmp))\n",
    "\n",
    "    # Sort\n",
    "    tt.sort()\n",
    "    tt_random.sort()\n",
    "\n",
    "    # Plot\n",
    "    plt.figure()\n",
    "    plt.plot(tt_random,t,'k.')\n",
    "    plt.xlabel('Expected Correlation (if random)')\n",
    "    plt.ylabel('Observed Correlation')\n",
    "    plt.grid()\n",
    "    plt.title('SAM')\n",
    "\n",
    "    # significance levels\n",
    "    fdr_pval = fdr_correction(pval)\n",
    "    corr_fdr = t.ppf(1-fdr_pval/2.0,N_cond-1) \n",
    "    xx = np.linspace(np.min(tt_random),np.max(tt_random),10)\n",
    "    plt.plot(xx,xx+corr_fdr,'k--')\n",
    "    plt.plot(xx,xx-corr_fdr,'k--')\n",
    "    plt.show()\n",
    "\n",
    "def volcano_plot(X,y,pval=[],idx=[]):\n",
    "\n",
    "    import scipy.stats as ss\n",
    "    import numpy as np    \n",
    "    import matplotlib.pyplot as plt\n",
    "\n",
    "    N_genes = np.shape(X)[0]    \n",
    "\n",
    "    idx0 = [i for i,yi in enumerate(y) if yi==0]    \n",
    "    idx1 = [i for i,yi in enumerate(y) if yi==1]    \n",
    "   \n",
    "    X = np.array(X,dtype=float)\n",
    "\n",
    "    p = [] # p-value\n",
    "    fc = [] # fold change\n",
    "    for i in range(N_genes):\n",
    "        corr = ss.pearsonr(X[i,:],y)\n",
    "        if len(pval)==0:\n",
    "            p.append(corr[1])\n",
    "        else:\n",
    "            p.append(pval[i])\n",
    "        fc.append(np.mean(X[i,idx1])/np.mean(X[i,idx0]))\n",
    "\n",
    "    significance_pval = fdr_correction(p)\n",
    "\n",
    "    plt.figure()\n",
    "    plt.plot(-np.log2(fc),-np.log10(p),'b.',zorder=0)\n",
    "    plt.xlabel('-log2(fold change)')\n",
    "    plt.ylabel('-log10(p-value)')\n",
    "    minix = min(-np.log2(fc))\n",
    "    maxix = max(-np.log2(fc))\n",
    "    mm = max(np.abs(minix),maxix)+0.1\n",
    "    fc = np.array(fc)\n",
    "    p = np.array(p)\n",
    "    plt.plot(-np.log2(fc[idx]),-np.log10(p[idx]),'r.',zorder=1)\n",
    "    plt.hlines(-np.log10(significance_pval),-mm,mm,'k',linestyles='dotted',lw=4,zorder=2)\n",
    "    plt.xlim([-mm,mm])\n",
    "    plt.title('Volcano plot')\n",
    "    plt.show()\n",
    "\n",
    "def shuffle_data_2(X):\n",
    "\n",
    "    from random import shuffle\n",
    "    import numpy as np\n",
    "\n",
    "    # get shuffled columns indexes\n",
    "    shuffled_idx = range(0,np.shape(X)[1]) \n",
    "    shuffle(shuffled_idx) \n",
    "\n",
    "    # use shuffled_idx to randomize the columns of data\n",
    "    X_random = X[:,shuffled_idx]\n",
    "\n",
    "    return X_random\n",
    "\n",
    "\n"
   ]
  },
  {
   "cell_type": "code",
   "execution_count": null,
   "metadata": {},
   "outputs": [],
   "source": [
    "import stats\n",
    "stats.volcano_plot(data[1:,2:],desired_profile,pval=pval_correl)\n"
   ]
  },
  {
   "cell_type": "markdown",
   "metadata": {},
   "source": [
    "Dans cette représentation, chaque point bleu est un gène. Les gènes intéressants sont ceux qui sont dans les \"coins\" supérieurs droit et gauche, c'est-à-dire les gènes qui ont une p-valeur très petite, et pour lequel le ratio \"expression du gène dans les cellules cancéreuses SUR expression du gène dans les cellules normales\" est grand. \n",
    "\n",
    "Sur ce plot, une ligne horizontale est également dessinée en traitillé: c'est le seuil qui a été calculé pour la significance, ce qui signifie que seuls les gènes au-dessus de la ligne ont une p-valeur suffisamment petite.\n",
    "\n",
    "Comment ce seuil a-t-il été calculé? Il existe plusieurs méthodes pour abaisser ce seuil, plus ou moins conservatives. La méthode de Bonferroni, très conservative, détermine le seuil de probabilité pour lequel au moins un faux positif sera identifié. Seules les p-valeurs inférieures à ce seuil sont admises. D'autres méthodes préfèrent contrôler la proportion de faux positifs qui sont admis (<a href=\"https://en.wikipedia.org/wiki/False_discovery_rate\">FDR correction</a>). C'est la méthode qui a été utilisée ici.\n",
    "\n",
    "<b>→ Identifiez les gènes pour lesquels: $-log_{10}(p-valeur) > 4.11$ (équivalent à un FDR de 5%, i.e. parmi les gènes identifiés comme significatifs, seuls 5% d'entre eux risquent d'être de faux positifs). </b>"
   ]
  },
  {
   "cell_type": "code",
   "execution_count": null,
   "metadata": {},
   "outputs": [],
   "source": [
    "# Multiple-testing-corrected p-value\n",
    "fdr_pval = stats.fdr_correction(pval_correl)\n",
    "print('-log10(p-value FDR) = '+str(-np.log10(fdr_pval))+'\\n')\n",
    "\n",
    "# idx of genes with p-value < fdr_pval\n",
    "idx_sg_corr = np.array([i for i,p in enumerate(pval_correl) if p<fdr_pval])\n",
    "\n",
    "# Volcano plot that shows significant genes in red\n",
    "stats.volcano_plot(data[1:,2:],desired_profile,pval=pval_correl,idx=idx_sg_corr)\n",
    "\n",
    "# print name of most significant genes\n",
    "print(str(len(idx_sg_corr))+' significant genes found with correlation (after p-value correction): \\n'+str(data[idx_sg_corr+1,1]))"
   ]
  },
  {
   "cell_type": "markdown",
   "metadata": {},
   "source": [
    "<b>→ Utilisez un heatmap pour visualiser l'expression de ces gènes.</b> Notez que pour la visualisation, les gènes sont aussi regroupés en fonction de leur similarité (clustering hiérarchique, voir dendrogram sur la gauche)."
   ]
  },
  {
   "cell_type": "code",
   "execution_count": null,
   "metadata": {},
   "outputs": [],
   "source": [
    "import matplotlib\n",
    "import scipy.cluster.hierarchy as cl\n",
    "import scipy.spatial.distance as ssd\n",
    "\n",
    "def show_matrix_expression(data,idx_genes,id_cond,dim=(16,10),show_ylabels=True):\n",
    "    \n",
    "    # data: matrix of data with headers\n",
    "    # idx_genes: idx of genes \n",
    "    \n",
    "    if isinstance(idx_genes,list):\n",
    "        idx_genes = np.array(idx_genes,dtype=int)\n",
    "    \n",
    "    conditions = data[0,2:]\n",
    "    genes = data[:,1]\n",
    "    data_to_show = data[idx_genes+1,2:]\n",
    "    \n",
    "    # re-order genes using hierarchical clustering\n",
    "    fig = plt.figure(num=None,figsize=(dim),dpi=250) \n",
    "    ax1 = fig.add_axes([0.09,0.1,0.2,0.6])\n",
    "    dmat = ssd.pdist(data_to_show,'cosine')\n",
    "    Z = cl.linkage(ssd.squareform(dmat),method='average',metric='cosine')\n",
    "    Z = cl.dendrogram(Z,orientation='left',no_labels=True)\n",
    "    idx_reorder = Z['leaves']\n",
    "    data_to_show = data_to_show[idx_reorder,:]    \n",
    "    \n",
    "    # plot heatmap\n",
    "    ax = fig.add_axes([0.3,0.1,0.6,0.6])\n",
    "\n",
    "    #print(np.shape(data_to_show))\n",
    "    #print(data_to_show)\n",
    "    #print(type(data_to_show))\n",
    "    \n",
    "    data_to_show = data_to_show.astype(float)\n",
    "    heatmap = ax.pcolor(data_to_show, cmap=plt.cm.YlGnBu,vmin=0,vmax=12)\n",
    "    ## pour faire joli...............................................................................\n",
    "    \n",
    "    # put the major ticks at the middle of each cell\n",
    "    ax.set_xticks(np.arange(data_to_show.shape[1])+0.5, minor=False)\n",
    "    ax.set_yticks(np.arange(data_to_show.shape[0])+0.5, minor=False)\n",
    "\n",
    "    # frame and labels position...\n",
    "    ax.set_frame_on(False)\n",
    "    ax.xaxis.tick_top()\n",
    "    ax.grid(False)\n",
    "    plt.xlim([0,np.shape(data_to_show)[1]])\n",
    "    plt.ylim([0,np.shape(data_to_show)[0]])\n",
    "\n",
    "    # set xlabels and ylabels\n",
    "    if show_ylabels:\n",
    "        ax.set_yticklabels([genes[ii+1] for ii in idx_genes], minor=False) \n",
    "    else:\n",
    "        ax.yaxis.tick_right()\n",
    "        ax.set_yticklabels([genes[ii+1] for ii in idx_genes])\n",
    "    conditions = [id_cond[s] for s in conditions]\n",
    "    ax.set_xticklabels(conditions, minor=False)\n",
    "\n",
    "    # rotate tick labels and set size\n",
    "    plt.xticks(rotation=90) # rotate xlabels\n",
    "    matplotlib.rcParams['xtick.labelsize'] = 10\n",
    "    \n",
    "    plt.show()\n",
    "      \n",
    "#print(idx_sg_corr.dtype)\n",
    "show_matrix_expression(data,idx_sg_corr,id_cond,dim=(10,85),show_ylabels=False)"
   ]
  },
  {
   "cell_type": "markdown",
   "metadata": {},
   "source": [
    "<p style=\"background-color:#AFEEEE;padding:3px\"><font size=\"4\"><b>2.6 </b></font>\n",
    "A vue d'oeil, qu'est-ce qui caractérise les gènes regroupés en orange dans le dendrogram, par rapport à ceux regroupés en vert? (100 mots maximum)\n",
    "<p>"
   ]
  },
  {
   "cell_type": "markdown",
   "metadata": {},
   "source": [
    "<font color=\"orange\"><b>Votre réponse...</b></font>"
   ]
  },
  {
   "cell_type": "markdown",
   "metadata": {},
   "source": [
    "Vous venez d'identifier 368 gènes dont l'expression est significativement différente dans les cellules cancéreuses (AML) vs. les autres types cellulaires normaux. Pour y parvenir, vous avez dû \n",
    "- calculer la p-valeur associée à chaque corrélation en estimant la distribution des corrélations obtenue avec des données randomisées. \n",
    "- déterminer un seuil de p-valeur: seuls les gènes ayant une p-valeur inférieure à ce seuil ont été retenus comme significativement corrélés.\n",
    "\n",
    "Comme vous le verrez si vous restez dans le domaine de la bioinformatique, la p-valeur est une notion extrêment utilisée en sciences de la vie et en médecine pour rejeter des hypothèses \"nulles\" (oui, c'est leur vrai nom). Dans notre cas, l'hypothèse nulle est donnée par la distribution des corrélations obtenues avec les données randomisées (équivalent à dire que l'expression des gènes ne contient pas d'information utile). Pour les 368 gènes identifiés, vous avez rejeté l'hypothèse nulle, car la probabilité que la valeur de corrélation observée soit issue de cette distribution \"nulle\" était extrêmement faible.\n",
    "\n",
    "A présent que vous avez bien compris ce qu'est une p-valeur, on avoue... La fonction pearson_genes() définie plus haut retourne deux variables: la corrélation de chaque gène, et sa p-valeur. Mais rassurez-vous, vous n'avez pas fait tout ça pour rien... L'exercice en valait la peine, non? \n",
    "\n",
    "<b>→ Avant de passer à la partie suivante, vérifiez que vos p-valeurs empiriques et celles retournées par pearson_genes() sont bien similaires (i.e. elles sont réparties le long de la diagonale, plus ou moins).</b>"
   ]
  },
  {
   "cell_type": "code",
   "execution_count": null,
   "metadata": {},
   "outputs": [],
   "source": [
    "plt.figure()\n",
    "plt.plot(co[1],pval_correl,'bx')\n",
    "plt.xlim([0,1])\n",
    "plt.ylim([0,1])"
   ]
  },
  {
   "cell_type": "markdown",
   "metadata": {},
   "source": [
    "<b>→ DANS LA \"VRAIE\" VIE...</b> Une méthode statistique a déjà été développée pour identifier des gènes significatifs et s'appelle la <a href=\"http://statweb.stanford.edu/~tibs/SAM/\">\"Significance Analysis of Microarrays\" (SAM)</a>. Cette méthode statistique est essentiellement basée sur les concepts développés dans ce labo. Elle est disponible dans R, Excel, <a href=\"http://acc.crs4.it/acdc/pygsa/\">python</a> et dans le <a href=\"http://www.tm4.org/mev.html\">MultiExperiment Viewer (MeV)</a> téléchargeable gratuitement. \n",
    "\n",
    "Pour vous donner une idée de son fonctionnement, un SAM simplifié est codé ci-dessous. L'idée consiste à représenter les scores observés vs. les scores obtenus en randomisant les données. Une valeur de delta est ensuite entrée par l'utilisateur, définissant une région de gènes non significatifs (entre les lignes traitillées). Les gènes significatifs sont représentés en rouge et vert. Pour vous aider à choisir une \"bonne\" valeur de delta, SAM calcule pour vous le FDR (false discovery rate) correspondant au delta choisi. Dans l'exemple ci-dessous, delta a été choisi de sorte que le FDR~5%. Le score utilisé ici est la corrélation, mais notez que le \"vrai\" SAM utilise un autre score, issu du t-test, que vous verrez plus loin dans ce labo (un screenshot obtenu avec le logiciel MeV est aussi montré)."
   ]
  },
  {
   "cell_type": "code",
   "execution_count": null,
   "metadata": {},
   "outputs": [],
   "source": [
    "## -- SAM-like with correlation -- ##\n",
    "\n",
    "# correlation per gene, random correlation per gene\n",
    "corr_S = np.sort(corr)\n",
    "corr_random_S = np.sort(corr_random,0)\n",
    "corr_random_mean = np.mean(corr_random_S,1)\n",
    "\n",
    "# significance thresholds: get approximation of delta for FDR ~ 5%\n",
    "corr_fdr = norm.ppf(1-fdr_pval/2.0,loc=np.mean(corr_random_mean),scale=np.std(corr_random_mean))\n",
    "\n",
    "idx_sign_up = [i for i,c in enumerate(corr_S) if c>=corr_fdr]\n",
    "idx_sign_down = [i for i,c in enumerate(corr_S) if c<=-corr_fdr]\n",
    "delta = corr_fdr - corr_random_mean[idx_sign_up[0]]\n",
    "\n",
    "# plot\n",
    "plt.figure(figsize=(6,3))\n",
    "plt.plot(corr_random_mean,corr_S,'k.')\n",
    "plt.xlabel('Expected Correlation (if random)')\n",
    "plt.ylabel('Observed Correlation')\n",
    "plt.gca().yaxis.grid(True)\n",
    "plt.title('SAM-like')\n",
    "minx = min(corr_random_mean)\n",
    "maxx = max(corr_random_mean)\n",
    "plt.xlim([minx,maxx])\n",
    "xx = np.linspace(minx,maxx,10)\n",
    "plt.plot(xx,xx,'k-')\n",
    "plt.plot(xx,xx+delta,'k--')\n",
    "plt.plot(xx,xx-delta,'k--')\n",
    "plt.plot(corr_random_mean[idx_sign_up],corr_S[idx_sign_up],'r.')\n",
    "plt.plot(corr_random_mean[idx_sign_down],corr_S[idx_sign_down],'g.')\n",
    "\n",
    "# show screenshot of MeV software\n",
    "#from PIL import Image      \n",
    "#img = Image.open('./data/SAM_MeV.png')\n",
    "#img.show()"
   ]
  },
  {
   "cell_type": "markdown",
   "metadata": {},
   "source": [
    "## 2b. Cibles thérapeutiques: Améliorer la liste obtenue à l'aide du t-test et visualiser la matrice des candidats finaux.\n",
    "\n",
    "Vous l'avez vu, la méthode de corrélation de Pearson est extrêmement simple. C'est une analyse univariée (\"un gène à la fois\"), et pour identifier les gènes significatifs, vous avez seulement dû calculer la corrélation avec un profil désiré. \n",
    "\n",
    "Le seul souci avec cette méthode très simple, c'est qu'il est possible d'identifier des gènes candidats pour lesquels l'expression dans les cellules cancéreuses est similaire à l'expression dans un type cellulaire normal, même si, globalement, les niveaux d'expression sont différents dans les cellules cancéreuses vs. les cellules normales (tous types confondus). \n",
    "\n",
    "<b>→ Rappelez-vous du gène PBX1, identifié comme significatif avec la corrélation.</b>"
   ]
  },
  {
   "cell_type": "code",
   "execution_count": null,
   "metadata": {},
   "outputs": [],
   "source": [
    "plot_gene_expression_across_conditions(data,'212148_at',cell_type,colors_cell_type)"
   ]
  },
  {
   "cell_type": "markdown",
   "metadata": {},
   "source": [
    "Pour améliorer notre liste et s'assurer que chaque gène candidat pris individuellement est un bon candidat comme cible thérapeutique, nous allons donc utiliser le t-test. L'idée derrière le t-test est de comparer deux distributions de données pour savoir si elles sont très similaires ou pas. \n",
    "\n",
    "<b>→ Représentez plusieurs distributions et demandez-vous à quel point elles sont similaires ou pas. Le titre du plot indique la p-valeur du t-test: plus elle est basse, plus on peut rejeter l'hypothèse nulle que les données bleues et blanches sont issues de la même distribution.</b>"
   ]
  },
  {
   "cell_type": "code",
   "execution_count": null,
   "metadata": {},
   "outputs": [],
   "source": [
    "from scipy.stats import ttest_ind\n",
    "\n",
    "def plot_distrib(mu1,mu2,s1,s2):\n",
    "    N = 100\n",
    "    x = np.linspace(0,10,N)\n",
    "    y1 = norm.rvs(loc=mu1,scale=s1,size=N)\n",
    "    y2 = norm.rvs(loc=mu2,scale=s2,size=N)\n",
    "    plt.figure()\n",
    "    plt.hist(y1, color='b', alpha=0.4)\n",
    "    plt.hist(y2, color='r', alpha=0.4)\n",
    "    p = ttest_ind(y1,y2,equal_var=False)[1]\n",
    "    plt.title('p-val = '+str(p))\n",
    "    \n",
    "plot_distrib(2,4,0.2,0.3)\n",
    "plot_distrib(2,5,0.8,1.2)\n",
    "plot_distrib(5.8,6,1.7,1.8)"
   ]
  },
  {
   "cell_type": "markdown",
   "metadata": {},
   "source": [
    "<p style=\"background-color:#AFEEEE;padding:3px\"><font size=\"4\"><b>2.7 </b></font>\n",
    "Discutez brièvement à quoi sert le t-test. (100 mots maximum)\n",
    "<p>"
   ]
  },
  {
   "cell_type": "markdown",
   "metadata": {},
   "source": [
    "<font color=\"orange\"><b>Votre réponse...</b></font>"
   ]
  },
  {
   "cell_type": "markdown",
   "metadata": {},
   "source": [
    "Dans notre cas, nous aimerions trouver des gènes pour lesquels la distribution des niveaux d'expression est très différente dans les cellules cancéreuses par rapport aux cellules normales (quel que soit le type choisi). On pourrait donc utiliser le t-test pour vérifier que nos candidats trouvés à l'aide de la corrélation satisfont la condition suivante: l'expression dans les cellules cancéreuses est significativement différente de l'expression dans <i>chaque</i> type cellulaire normal. \n",
    "\n",
    "\n",
    "<b>→ Pour chaque gène, testez à l'aide du t-test si son expression dans les cellules cancéreuses est significativement différente de son expression dans chaque type cellulaire normal</b> (ceci peut prendre quelques minutes)."
   ]
  },
  {
   "cell_type": "code",
   "execution_count": null,
   "metadata": {},
   "outputs": [],
   "source": [
    "from scipy.stats import ttest_ind\n",
    "\n",
    "N_genes = np.shape(data)[0]-1 # number of genes \n",
    "idx_leukemia = [i+2 for i,c in enumerate(data[0,2:]) if id_cond[c]=='AML'] # column idx with leukemia\n",
    "\n",
    "# perform t-test between cancer cell type and each normal cell type\n",
    "pval_ct = [] # p-value across cell types\n",
    "for k,ct in enumerate(cell_type[:-1]):   \n",
    "    #print(ct)\n",
    "    idx_normal = [i+2 for i,c in enumerate(data[0,2:]) if id_cond[c]==ct] # column idx corresponding to a cell type\n",
    "    \n",
    "    pval = []\n",
    "    for g in range(1,N_genes+1): # loop over genes\n",
    "    \n",
    "        normal = np.array(data[g,idx_normal],dtype=float)\n",
    "        leukemia = np.array(data[g,idx_leukemia],dtype=float)\n",
    "        ttest = ttest_ind(normal,leukemia,equal_var=False) # return t-value and its associated p-value\n",
    "        pval.append(ttest[1])\n",
    "    pval_ct.append(pval)\n",
    "    #print(np.shape(pval_ct))"
   ]
  },
  {
   "cell_type": "markdown",
   "metadata": {},
   "source": [
    "<b>→ Pour finir, gardez uniquement les gènes pour lesquels la p-valeur de chaque t-test, ainsi que de la corrélation, est très petite (critère FDR vu précédemment).</b>"
   ]
  },
  {
   "cell_type": "code",
   "execution_count": null,
   "metadata": {},
   "outputs": [],
   "source": [
    "print(cell_type)\n",
    "print(cell_type[:-1])\n",
    "print(len(pval_ct))\n",
    "print(len(pval_ct[1]))"
   ]
  },
  {
   "cell_type": "code",
   "execution_count": null,
   "metadata": {},
   "outputs": [],
   "source": [
    "# fdr correction\n",
    "importlib.reload(stats)\n",
    "fdr_pval = [stats.fdr_correction(pval_ct[ct]) for ct in range(len(pval_ct))]\n",
    "\n",
    "# keep genes for which the t-test p-value is smaller than the fdr-corrected threshold (fdr_pval)\n",
    "idx_sg_ttest = []\n",
    "for i in range(N_genes):\n",
    "    significant = [1 if pval_ct[ct][i]<fdr_pval[ct] else 0 for ct in range(len(pval_ct))]\n",
    "    if sum(significant)==4:\n",
    "        idx_sg_ttest.append(i)\n",
    "        \n",
    "        \n",
    "# keep only genes that appear significantly in each t-test AND in the correlation test\n",
    "idx_sg_final = np.array( list( set(idx_sg_ttest) & set(idx_sg_corr) ) )\n",
    "\n",
    "print('LISTE FINALE DE GENES:\\n'+str(data[idx_sg_final+1,1]).strip('[]'))"
   ]
  },
  {
   "cell_type": "markdown",
   "metadata": {},
   "source": [
    "<p style=\"background-color:#AFEEEE;padding:3px\"><font size=\"4\"><b>2.8 </b></font>\n",
    "Utilisez plot_gene_expression_across_conditions() pour représenter graphiquement l'expression des candidats finaux.\n",
    "<p>"
   ]
  },
  {
   "cell_type": "code",
   "execution_count": null,
   "metadata": {},
   "outputs": [],
   "source": [
    "#Votre code..."
   ]
  },
  {
   "cell_type": "markdown",
   "metadata": {},
   "source": [
    "<p style=\"background-color:#AFEEEE;padding:3px\"><font size=\"4\"><b>2.9 </b></font>\n",
    "Etes-vous satisfait avec ces candidats? Est-ce que vous verriez des améliorations possibles? Pour vous aider, visualisez vos gènes candidats (en rouge) sur le \"Volcano plot\" ci-dessous.\n",
    "<p>"
   ]
  },
  {
   "cell_type": "markdown",
   "metadata": {},
   "source": [
    "<font color=\"orange\"><b>Votre réponse...</b></font>"
   ]
  },
  {
   "cell_type": "code",
   "execution_count": null,
   "metadata": {},
   "outputs": [],
   "source": [
    "stats.volcano_plot(data[1:,2:],desired_profile,idx=idx_sg_final)"
   ]
  },
  {
   "cell_type": "markdown",
   "metadata": {},
   "source": [
    "## 3. Construire un classificateur pour développer un outil diagnostique\n",
    "\n",
    "Dans la première partie du labo, vous avez analysé un set de données transcriptomiques afin d'identifier des gènes exprimés différentiellement dans la condition malade vs. normale. Ces gènes constituent des candidats comme cibles d'un nouveau médicament à développer. Dès à présent, ce sera aux biologistes de reprendre la main afin d'essayer d'identifier une molécule capable d'agir spécifiquement sur un ou plusieurs de ces gènes et de tester le potential thérapeutique expérimentalement. \n",
    "\n",
    "Par ailleurs, avec un tel set de données, l'on pourrait aussi envisager de construire un classificateur à leucémie AML, afin, par exemple, de diagnostiquer la maladie le plus tôt possible. En effet, l'on pourrait imaginer qu'à l'aide de quelques données transcriptomiques d'un patient (l'expression des 19 gènes que vous venez d'identifier), l'on pourrait prédire s'il est atteint de leucémie AML ou pas. Dans ce cas, on dirait que ces 19 gènes constituent des biomarqueurs de l'AML.\n",
    "\n",
    "<b>→ Afin d'entraîner un modèle \"k-Nearest-Neighbors\" (kNN), commencez par définir la matrice X des données et le vecteur y contenant les labels (1 si AML, 0 si normal). Définissez aussi ces matrices pour le test set, qui n'a pas été utilisé jusqu'ici pour identifier les biomarqueurs.</b>"
   ]
  },
  {
   "cell_type": "code",
   "execution_count": null,
   "metadata": {},
   "outputs": [],
   "source": [
    "# train set\n",
    "X = data[idx_sg_final+1,2:]\n",
    "# il faut transposer la matrice, car SVM s'attend a recevoir les features en colonnes et non en lignes\n",
    "X = np.transpose(X) \n",
    "X = np.array(X,dtype=float)\n",
    "y = [1 if id_cond[s]=='AML' else 0 for s in data[0,2:]]\n",
    "\n",
    "# test set\n",
    "X_test = data_test[idx_sg_final+1,2:]\n",
    "X_test = np.transpose(X_test)\n",
    "X_test = np.array(X_test,dtype=float)\n",
    "y_test = [1 if id_cond[s]=='AML' else 0 for s in data_test[0,2:]]"
   ]
  },
  {
   "cell_type": "markdown",
   "metadata": {},
   "source": [
    "<p style=\"background-color:#AFEEEE;padding:3px\"><font size=\"4\"><b>3.1 </b></font>\n",
    "Discutez brièvement l'importance du fait que les données du test-set n'aient pas été utilisées jusqu'à présent.\n",
    "<p>"
   ]
  },
  {
   "cell_type": "markdown",
   "metadata": {},
   "source": [
    "<font color=\"orange\"><b>Votre réponse...</b></font>"
   ]
  },
  {
   "cell_type": "markdown",
   "metadata": {},
   "source": [
    "<b>→ Utilisez la librairie <a href=\"http://scikit-learn.org/stable/\">scikit-learn</a> pour construire un premier classificateur <a href=\"http://scikit-learn.org/stable/modules/neighbors.html\">k-nearest neighbors</a> dont les \"features\" seraient l'expression des gènes identifiés à la section 2. </b> A noter que les valeurs d'expression prennent des valeurs similaires quelque soit le gène; il n'est donc pas nécessaire de normaliser les \"features\" avant d'entraîner le modèle."
   ]
  },
  {
   "cell_type": "code",
   "execution_count": null,
   "metadata": {},
   "outputs": [],
   "source": [
    "\n",
    "\n",
    "def kNN_classifier(X,y,X_test,y_test):\n",
    "    \n",
    "    # train de KNN classifier\n",
    "    clf = neighbors.KNeighborsClassifier()\n",
    "    clf.fit(X, y)\n",
    "\n",
    "    # predict on the test set\n",
    "    pred_kNN = clf.predict(X_test)\n",
    "    \n",
    "    # return score\n",
    "    score = clf.score(X_test,y_test)\n",
    "    return score\n",
    "    \n",
    "score = kNN_classifier(X,y,X_test,y_test)\n",
    "print('Le classificateur kNN fait '+str(round(100*score))+'% de prédictions correctes (sur le test set).')"
   ]
  },
  {
   "cell_type": "markdown",
   "metadata": {},
   "source": [
    "Comme vous pouvez le voir, ces 19 biomarqueurs sont suffisants pour classifier correctement tous les patients du test set. Une manière visuelle de comprendre ce résultat est de représenter la matrice de distance entre chaque condition, en n'utilisant que les 19 gènes sélectionnés."
   ]
  },
  {
   "cell_type": "code",
   "execution_count": null,
   "metadata": {},
   "outputs": [],
   "source": [
    "import scipy.spatial.distance as ssd\n",
    "import matplotlib\n",
    "\n",
    "# calculate distance between any two conditions in X\n",
    "D = ssd.pdist(X,'cosine')\n",
    "Ds = ssd.squareform(D)\n",
    "\n",
    "# plot\n",
    "fig, ax = plt.subplots(num=None,figsize=(10,14),dpi=250) \n",
    "heatmap = ax.pcolor(Ds, cmap=plt.cm.gray)\n",
    "\n",
    "ax.set_xticks(np.arange(Ds.shape[1])+0.5, minor=False)\n",
    "ax.set_yticks(np.arange(Ds.shape[0])+0.5, minor=False)\n",
    "\n",
    "ax.set_frame_on(False)\n",
    "ax.xaxis.tick_top()\n",
    "ax.grid(False)\n",
    "plt.xlim([0,np.shape(Ds)[1]])\n",
    "\n",
    "labels = [id_cond[s] for s in data[0,2:]]\n",
    "ax.set_yticklabels(labels, minor=False) \n",
    "ax.set_xticklabels(labels, minor=False)\n",
    "\n",
    "plt.xticks(rotation=90) # rotate xlabels\n",
    "matplotlib.rcParams['xtick.labelsize'] = 10\n",
    "\n",
    "cbar = fig.colorbar(heatmap, orientation='horizontal')\n",
    "cbar.set_label('Distance')"
   ]
  },
  {
   "cell_type": "markdown",
   "metadata": {},
   "source": [
    "Le fait que des \"blocs\" soient bien visibles démontre qu'avec ces 19 gènes, on peut séparer (discriminer) les patients atteints de AML des patients sains. Ce n'est donc pas étonnant que le SVM y arrive avec une telle performance!\n",
    "\n",
    "<p style=\"background-color:#AFEEEE;padding:3px\"><font size=\"4\"><b>3.2 </b></font>\n",
    "Au vu de la matrice ci-dessus, est-ce que les patients atteints de AML sont plus similaires entre eux que les patients sains? Justifiez brièvement. Sur quelle ligne (de la matrice) se trouve le patient atteint de AML dont le profil d'expression est le plus différent de l'expression \"normale\"?\n",
    "<p>"
   ]
  },
  {
   "cell_type": "markdown",
   "metadata": {},
   "source": [
    "<font color=\"orange\"><b>Votre réponse...</b></font>"
   ]
  },
  {
   "cell_type": "markdown",
   "metadata": {},
   "source": [
    "Vous allez à présent réduire le nombre de biomarqueurs et voir quel est le nombre minimum de biomarqueurs nécessaire pour prédire correctement la classe des patients (et réduire ainsi les coûts associés à l'utilisation de biomarqueurs).\n",
    "\n",
    "<p style=\"background-color:#AFEEEE;padding:3px\"><font size=\"4\"><b>3.3 </b></font>\n",
    "Générez un tableau qui contient le score de prédiction de chaque paire de biomarqueurs (parmi la liste idx_sg_final). Représentez graphiquement ce tableau à l'aide d'un heatmap. Discutez brièvement les résultats obtenus.\n",
    "<p>"
   ]
  },
  {
   "cell_type": "code",
   "execution_count": null,
   "metadata": {},
   "outputs": [],
   "source": [
    "#Votre code\n"
   ]
  },
  {
   "cell_type": "markdown",
   "metadata": {},
   "source": [
    "<font color=\"orange\"><b>Votre discussion des résultats...</b></font>"
   ]
  },
  {
   "cell_type": "markdown",
   "metadata": {},
   "source": [
    "Il est de bonne pratique de toujours comparer la performance d'un classificateur avec celle d'un \"dummy estimator\", qui utilise le même nombre de biomarqueurs mais choisis au hasard. Ceci nous donne alors un \"baseline\" de la performance minimum à dépasser si l'on veut faire mieux que le hasard.\n",
    "\n",
    "<p style=\"background-color:#AFEEEE;padding:3px\"><font size=\"4\"><b>3.4 </b></font>\n",
    "Calculez le score moyen sur 100 expériences d'un dummy estimator qui utiliserait 19 gènes choisis au hasard parmi la liste de 22283 gènes. Répétez la même opération en ne sélectionnant que 2 gènes au hasard parmi la liste des 22283 gènes.\n",
    "<p>"
   ]
  },
  {
   "cell_type": "code",
   "execution_count": null,
   "metadata": {},
   "outputs": [],
   "source": [
    "print(len(idx_sg_final))"
   ]
  },
  {
   "cell_type": "code",
   "execution_count": null,
   "metadata": {},
   "outputs": [],
   "source": [
    "# Votre code..."
   ]
  },
  {
   "cell_type": "markdown",
   "metadata": {},
   "source": [
    "<p style=\"background-color:#AFEEEE;padding:3px\"><font size=\"4\"><b>3.5 </b></font>\n",
    "Discutez brièvement les résultats obtenus avec 19 ou 2 gènes choisis au hasard.\n",
    "<p>"
   ]
  },
  {
   "cell_type": "markdown",
   "metadata": {},
   "source": [
    "<font color=\"orange\"><b>Votre réponse...</b></font>"
   ]
  }
 ],
 "metadata": {
  "kernelspec": {
   "display_name": "Python 3 (ipykernel)",
   "language": "python",
   "name": "python3"
  },
  "language_info": {
   "codemirror_mode": {
    "name": "ipython",
    "version": 3
   },
   "file_extension": ".py",
   "mimetype": "text/x-python",
   "name": "python",
   "nbconvert_exporter": "python",
   "pygments_lexer": "ipython3",
   "version": "3.13.2"
  }
 },
 "nbformat": 4,
 "nbformat_minor": 4
}
