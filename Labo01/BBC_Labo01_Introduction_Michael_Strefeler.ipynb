{
 "cells": [
  {
   "cell_type": "markdown",
   "metadata": {},
   "source": [
    "\n",
    "# BBC - Bioinformatics and Computational Biology 2025\n",
    "\n",
    "> Practicals 01 - Introduction to Bioinformatics\n",
    "\n",
    "---\n",
    "\n",
    "- Professeur: Brochet Xavier (<a href=\"mailto:xavier.brochet@heig-vd.ch\">xavier.brochet@heig-vd.ch</a>)\n",
    "- Assistant: Thibault Schowing (<a href=\"mailto:thibault.schowing@heig-vd.ch\">thibault.schowing@heig-vd.ch</a>)\n",
    "\n",
    "- Student: Michael Strefeler\n",
    "\n",
    "\n",
    "## Instructions\n",
    "\n",
    "- Add your name to the filename and here above\n",
    "- Answer the questions \n",
    "- Add python or markdown cells if you deem it necessary\n",
    "- Return the notebook according to instructions given in class. \n",
    "\n",
    "## Content\n",
    "\n",
    "- Basics of DNA structure and replication (Crash course)\n",
    "- Sequences and files\n",
    "\n"
   ]
  },
  {
   "cell_type": "markdown",
   "metadata": {},
   "source": [
    "> Throughout the laboratories, the questions that you should answer are highlighted as follows :\n",
    "> <p style=\"background-color:#AFEEEE;padding:3px\"><font size=\"4\"><b>0. </b></font> This is a question.</p>"
   ]
  },
  {
   "cell_type": "markdown",
   "metadata": {
    "vscode": {
     "languageId": "plaintext"
    }
   },
   "source": [
    "## Basic DNA biology\n",
    "\n",
    "\n",
    "If you are passionate and want to review all basics of biology in a rainy Sunday afternoon, you can watch this full biology crash course [from carbon atoms to ecology - full YouTube Playlist](https://www.youtube.com/playlist?list=PL3EED4C1D684D3ADF) but for this introductory lab you just need to quickly review in 13 minutes what is DNA and how it is replicated you can watch just [this video](https://www.youtube.com/watch?v=8kK2zwjRV0M&list=PL3EED4C1D684D3ADF&index=12) from the series followed by [the next 14 minutes one](https://www.youtube.com/watch?v=itsb2SqR-R0&list=PL3EED4C1D684D3ADF&index=12) which describes the bases of DNA transcription and RNA translation. \n",
    "\n",
    "\n"
   ]
  },
  {
   "cell_type": "markdown",
   "metadata": {},
   "source": [
    "Answer the following questions. The answer are found in the two videos above, wo you can answer while watching, but feel free to search by yourself.  Give simple and short answers, with no need to ask GPT or Claude to write a paragraph for each question, the goal being for you to understand these concepts."
   ]
  },
  {
   "cell_type": "markdown",
   "metadata": {},
   "source": [
    "> <p style=\"background-color:#AFEEEE;padding:3px\"><font size=\"4\"><b> </b></font> What are 3' and 5' when we talk about DNA ? </p>\n",
    "The double helix is like a twisted ladder with 2 strands that are connected. At each \"step\" of the ladder, both strands are connected, each side has a sugar molecule and a phosphate, 3' and 5' are how each step is connected to the next one\n",
    "[5' --> 3'] is the pattern of the strand (going up)\n",
    "[3' --> 5'] is the pattern of the other strand"
   ]
  },
  {
   "cell_type": "markdown",
   "metadata": {},
   "source": [
    "> <p style=\"background-color:#AFEEEE;padding:3px\"><font size=\"4\"><b> </b></font> What are the different steps of replication ?</p>\n",
    "- The Helicase splits the strand into 2 strands (leading strand and lagging strand)\n",
    "- The 2 strands are used as templates for replication\n",
    "- RNA Primase puts the compatible nucleotides with the ones on the leading strand, (A with U, C with G, T with A) at the start and then DNA polymerase does the rest\n",
    "- The lagging strand is harder to replicate, RNA primase can do sections of the strand at a time and then the DNA polymerase works backwards, once all that is done a different DNA polymerase has to replace the RNA primers, then, finally, DNA ligase makes the bond"
   ]
  },
  {
   "cell_type": "markdown",
   "metadata": {},
   "source": [
    "> <p style=\"background-color:#AFEEEE;padding:3px\"><font size=\"4\"><b> </b></font> Where is DNA located in eukaryotes ?</p>\n",
    "- In the nucleus"
   ]
  },
  {
   "cell_type": "markdown",
   "metadata": {},
   "source": [
    "> <p style=\"background-color:#AFEEEE;padding:3px\"><font size=\"4\"><b> </b></font> How is DNA packed in the nucleus ? </p>\n",
    "- Gene by gene"
   ]
  },
  {
   "cell_type": "markdown",
   "metadata": {},
   "source": [
    "> <p style=\"background-color:#AFEEEE;padding:3px\"><font size=\"4\"><b> </b></font> What is a promoter (TATA box) ?</p>\n",
    "- A sequence that defines when the transcription unit is going to begin, the TATA box helps the enzyme figure out where to bind to the strand"
   ]
  },
  {
   "cell_type": "markdown",
   "metadata": {},
   "source": [
    "> <p style=\"background-color:#AFEEEE;padding:3px\"><font size=\"4\"><b> </b></font> What strand is used to transcribe in RNA ? </p>\n",
    "- The leading strand"
   ]
  },
  {
   "cell_type": "markdown",
   "metadata": {},
   "source": [
    "> <p style=\"background-color:#AFEEEE;padding:3px\"><font size=\"4\"><b> </b></font> How is the mRNA matured after transcription ?</p>\n",
    "-  By adding Guanine to the 5' end and by adding a poly-A tail (about 250 adenines) on the 3' end"
   ]
  },
  {
   "cell_type": "markdown",
   "metadata": {},
   "source": [
    "> <p style=\"background-color:#AFEEEE;padding:3px\"><font size=\"4\"><b> </b></font> Snurps and splicing ? Exons ? Introns ? What are they ?</p>\n",
    "- RNA Splicing is used to remove excess information from the mRNA\n",
    "- Snurps a key player in RNA splicing, snurp means Small Nuclear RibonucleoProteins. They are combinations of RNA and proteins, they are used to find the start and end of splices\n",
    "- Exons is we keep when splicing, introns are when is cut out when splicing"
   ]
  },
  {
   "cell_type": "markdown",
   "metadata": {},
   "source": [
    "> <p style=\"background-color:#AFEEEE;padding:3px\"><font size=\"4\"><b> </b></font> Endoplasmic reticulum and ribosomes: what are they used for ? </p>\n",
    "- The endoplasmic reticulum is a part of a transportation system of the eukaryotic cell, and has many other important functions such as protein folding.\n",
    "- Ribosomes are a mixuture of proteins and ribosomal RNA (rRNA). The incoming mRNA goes there. They translate genetic code into chains of amino acids using tRNA."
   ]
  },
  {
   "cell_type": "markdown",
   "metadata": {},
   "source": [
    "> <p style=\"background-color:#AFEEEE;padding:3px\"><font size=\"4\"><b> </b></font> What is tRNA and what is it used for ? </p>\n",
    "- tRNA is transfer RNA and it does translation from the language of nucleotides into the language of amino acids and proteins"
   ]
  },
  {
   "cell_type": "markdown",
   "metadata": {
    "vscode": {
     "languageId": "plaintext"
    }
   },
   "source": [
    "> <p style=\"background-color:#AFEEEE;padding:3px\"><font size=\"4\"><b> </b></font> In how many dimentions can we analyse proteins ?</p>\n",
    "- Proteins can be analyzed in multiple dimensions, primarily focusing on their primary, secondary, tertiary, and quaternary structures"
   ]
  },
  {
   "cell_type": "markdown",
   "metadata": {},
   "source": [
    "---"
   ]
  },
  {
   "cell_type": "markdown",
   "metadata": {
    "vscode": {
     "languageId": "plaintext"
    }
   },
   "source": [
    "## Sequences and files\n",
    "\n",
    "A DNA sequence is a string of nucleotides represented by four letters:\n",
    "- A (Adenine)\n",
    "- T (Thymine)\n",
    "- C (Cytosine)\n",
    "- G (Guanine)\n",
    "\n",
    "Here is a simple class representing a DNA sequence. Take a look at the code. "
   ]
  },
  {
   "cell_type": "code",
   "execution_count": 2,
   "metadata": {},
   "outputs": [
    {
     "name": "stdout",
     "output_type": "stream",
     "text": [
      "Original Sequence: ATCGATCG\n",
      "Complement: TAGCTAGC\n",
      "Reverse Complement: CGATCGAT\n",
      "GC Content: 50.0 %\n"
     ]
    }
   ],
   "source": [
    "# Basic DNA Sequence Representation\n",
    "class DNASequence:\n",
    "    def __init__(self, sequence):\n",
    "        # Validate and store the sequence\n",
    "        self.sequence = sequence.upper()\n",
    "        if not self._is_valid():\n",
    "            raise ValueError(\"Invalid DNA sequence\")\n",
    "    \n",
    "    def _is_valid(self):\n",
    "        \"\"\"Check if sequence contains only valid nucleotides\"\"\"\n",
    "        valid_nucleotides = set('ATCG')\n",
    "        return all(base in valid_nucleotides for base in self.sequence)\n",
    "    \n",
    "    def complement(self):\n",
    "        \"\"\"Generate the complement sequence\"\"\"\n",
    "        complement_dict = {'A': 'T', 'T': 'A', 'C': 'G', 'G': 'C'}\n",
    "        return ''.join(complement_dict[base] for base in self.sequence)\n",
    "    \n",
    "    def reverse_complement(self):\n",
    "        \"\"\"Generate the reverse complement sequence\"\"\"\n",
    "        return self.complement()[::-1]\n",
    "    \n",
    "    def gc_content(self):\n",
    "        \"\"\"Calculate GC content percentage\"\"\"\n",
    "        gc_count = self.sequence.count('G') + self.sequence.count('C')\n",
    "        return (gc_count / len(self.sequence)) * 100\n",
    "\n",
    "# Example usage\n",
    "dna = DNASequence(\"ATCGATCG\")\n",
    "print(\"Original Sequence:\", dna.sequence)\n",
    "print(\"Complement:\", dna.complement())\n",
    "print(\"Reverse Complement:\", dna.reverse_complement())\n",
    "print(\"GC Content:\", dna.gc_content(), \"%\")"
   ]
  },
  {
   "cell_type": "markdown",
   "metadata": {},
   "source": [
    "> <p style=\"background-color:#AFEEEE;padding:3px\"><font size=\"4\"><b> </b></font> What is the GC content used for ? (search on the interweb and give your sources)</p>\n",
    "- The structural integrity of DNA is influenced by its nucleotide composition, particularly the presence of guanine and cytosine pairs. These pairs are bonded by three hydrogen bonds, compared to the two bonds found in adenine-thymine pairs. \n",
    "- GC content also affects the physical properties of DNA, influencing its melting temperature—the point at which half of the DNA strands are in the single-stranded state. This is a key parameter in techniques like polymerase chain reaction (PCR). In the PCR, higher GC templates increase the chances of non-specific bindings and consequently the chances of false-positive results. Care must be taken while selecting the PCR template DNA and designing primers. \n",
    "- The genome can broadly be classified into genes and non-coding junk sequences. However, the GC content regions spam both coding and noncoding regions henceforth are important for protein formation as well as gene expression.  \n",
    "\n",
    "Sources:\n",
    "- [genetic education](https://geneticeducation.co.in/what-is-the-importance-of-gc-content/)\n",
    "- [Biology insights](https://biologyinsights.com/gc-content-effects-on-dna-stability-and-gene-expression/)"
   ]
  },
  {
   "cell_type": "markdown",
   "metadata": {},
   "source": [
    "A protein sequence is a string of amino acids represented each by one or three leter depending on the chosen notation. Here we provide a code that simply translates a DNA sequence to protein (we omit all the middle steps of transcription into mRNA (messenger RNA) and the splicing (removing the non coding parts)). \n",
    "\n",
    "\n",
    "Read the code and answer the questions."
   ]
  },
  {
   "cell_type": "code",
   "execution_count": 1,
   "metadata": {},
   "outputs": [
    {
     "name": "stdout",
     "output_type": "stream",
     "text": [
      "DNA Sequence Analysis:\n",
      "----------------------------------------\n",
      "Original Sequence: ATGCATCGATCGATCGATCG\n",
      "Sequence Length: 20 nucleotides\n",
      "\n",
      "Reading Frame 1:\n",
      "Translated Protein: MHRSID\n",
      "Diagnostic Information:\n",
      "  Start Codon Found: True\n",
      "  Total Codons: 6\n",
      "  Stop Codon Found: False\n",
      "  Unknown Codons: 0\n",
      "  Translated Length: 6\n",
      "\n",
      "Reading Frame 2:\n",
      "Translated Protein: \n",
      "Diagnostic Information:\n",
      "  Translated Length: 0\n",
      "  Start Codon Found: False\n",
      "\n",
      "Reading Frame 3:\n",
      "Translated Protein: \n",
      "Diagnostic Information:\n",
      "  Translated Length: 0\n",
      "  Start Codon Found: False\n",
      "\n",
      "==================================================\n",
      "\n",
      "DNA Sequence Analysis:\n",
      "----------------------------------------\n",
      "Original Sequence: GCATCGATCGATCGATCGATCG\n",
      "Sequence Length: 22 nucleotides\n",
      "\n",
      "Reading Frame 1:\n",
      "Translated Protein: \n",
      "Diagnostic Information:\n",
      "  Translated Length: 0\n",
      "  Start Codon Found: False\n",
      "\n",
      "Reading Frame 2:\n",
      "Translated Protein: \n",
      "Diagnostic Information:\n",
      "  Translated Length: 0\n",
      "  Start Codon Found: False\n",
      "\n",
      "Reading Frame 3:\n",
      "Translated Protein: \n",
      "Diagnostic Information:\n",
      "  Translated Length: 0\n",
      "  Start Codon Found: False\n",
      "\n",
      "==================================================\n",
      "\n",
      "DNA Sequence Analysis:\n",
      "----------------------------------------\n",
      "Original Sequence: ATGAAACCCGGGTTT\n",
      "Sequence Length: 15 nucleotides\n",
      "\n",
      "Reading Frame 1:\n",
      "Translated Protein: MKPGF\n",
      "Diagnostic Information:\n",
      "  Start Codon Found: True\n",
      "  Total Codons: 5\n",
      "  Stop Codon Found: False\n",
      "  Unknown Codons: 0\n",
      "  Translated Length: 5\n",
      "\n",
      "Reading Frame 2:\n",
      "Translated Protein: \n",
      "Diagnostic Information:\n",
      "  Translated Length: 0\n",
      "  Start Codon Found: False\n",
      "\n",
      "Reading Frame 3:\n",
      "Translated Protein: \n",
      "Diagnostic Information:\n",
      "  Translated Length: 0\n",
      "  Start Codon Found: False\n",
      "\n",
      "==================================================\n",
      "\n"
     ]
    }
   ],
   "source": [
    "# Smoothly generated by a well known LLM\n",
    "\n",
    "# Complete Genetic Code Dictionary\n",
    "# Standard genetic code mapping (64 possible codons)\n",
    "genetic_code = {\n",
    "    # Start Codon\n",
    "    'ATG': 'M',  # Methionine (Start)\n",
    "    \n",
    "    # Phenylalanine\n",
    "    'TTT': 'F', 'TTC': 'F',\n",
    "    \n",
    "    # Leucine\n",
    "    'TTA': 'L', 'TTG': 'L',\n",
    "    'CTT': 'L', 'CTC': 'L', 'CTA': 'L', 'CTG': 'L',\n",
    "    \n",
    "    # Isoleucine\n",
    "    'ATT': 'I', 'ATC': 'I', 'ATA': 'I',\n",
    "    \n",
    "    # Methionine and Stop\n",
    "    'ATC': 'I', 'ATA': 'I',\n",
    "    \n",
    "    # Valine\n",
    "    'GTT': 'V', 'GTC': 'V', 'GTA': 'V', 'GTG': 'V',\n",
    "    \n",
    "    # Serine\n",
    "    'TCT': 'S', 'TCC': 'S', 'TCA': 'S', 'TCG': 'S',\n",
    "    'AGT': 'S', 'AGC': 'S',\n",
    "    \n",
    "    # Proline\n",
    "    'CCT': 'P', 'CCC': 'P', 'CCA': 'P', 'CCG': 'P',\n",
    "    \n",
    "    # Threonine\n",
    "    'ACT': 'T', 'ACC': 'T', 'ACA': 'T', 'ACG': 'T',\n",
    "    \n",
    "    # Alanine\n",
    "    'GCT': 'A', 'GCC': 'A', 'GCA': 'A', 'GCG': 'A',\n",
    "    \n",
    "    # Tyrosine\n",
    "    'TAT': 'Y', 'TAC': 'Y',\n",
    "    \n",
    "    # Histidine\n",
    "    'CAT': 'H', 'CAC': 'H',\n",
    "    \n",
    "    # Glutamine (GLN)\n",
    "    'CAA': 'Q', 'CAG': 'Q',\n",
    "    \n",
    "    # Asparagine\n",
    "    'AAT': 'N', 'AAC': 'N',\n",
    "    \n",
    "    # Lysine\n",
    "    'AAA': 'K', 'AAG': 'K',\n",
    "    \n",
    "    # Aspartic Acid\n",
    "    'GAT': 'D', 'GAC': 'D',\n",
    "    \n",
    "    # Glutamic Acid (GLU) - Turns into Glutamate in the body\n",
    "    'GAA': 'E', 'GAG': 'E',\n",
    "    \n",
    "    # Cysteine\n",
    "    'TGT': 'C', 'TGC': 'C',\n",
    "    \n",
    "    # Tryptophan\n",
    "    'TGG': 'W',\n",
    "    \n",
    "    # Arginine\n",
    "    'CGT': 'R', 'CGC': 'R', 'CGA': 'R', 'CGG': 'R',\n",
    "    'AGA': 'R', 'AGG': 'R',\n",
    "    \n",
    "    # Glycine\n",
    "    'GGT': 'G', 'GGC': 'G', 'GGA': 'G', 'GGG': 'G',\n",
    "    \n",
    "    # Stop Codons\n",
    "    'TAA': '*', 'TAG': '*', 'TGA': '*'\n",
    "}\n",
    "\n",
    "def translate_dna_to_protein(dna_sequence, start_codon='ATG'):\n",
    "    \"\"\"\n",
    "    Translate DNA sequence to protein sequence with advanced features\n",
    "    \n",
    "    Parameters:\n",
    "    - dna_sequence: Input DNA sequence to translate\n",
    "    - start_codon: Specifies the start codon (default is 'ATG')\n",
    "    \n",
    "    Returns:\n",
    "    - Translated protein sequence\n",
    "    - Diagnostic information about translation\n",
    "    \"\"\"\n",
    "    # Convert sequence to uppercase to handle mixed case input\n",
    "    dna_sequence = dna_sequence.upper()\n",
    "    \n",
    "    # Find the first occurrence of start codon\n",
    "    start_index = dna_sequence.find(start_codon)\n",
    "    \n",
    "    # If no start codon found, return empty results\n",
    "    if start_index == -1:\n",
    "        return '', {'translated_length': 0, 'start_codon_found': False}\n",
    "    \n",
    "    # Translate from start codon\n",
    "    protein = []\n",
    "    diagnostic_info = {\n",
    "        'start_codon_found': True,\n",
    "        'total_codons': 0,\n",
    "        'stop_codon_found': False,\n",
    "        'unknown_codons': 0\n",
    "    }\n",
    "    \n",
    "    # Translate in groups of 3 nucleotides\n",
    "    for i in range(start_index, len(dna_sequence), 3):\n",
    "        # Ensure we have a complete codon\n",
    "        if i + 3 > len(dna_sequence):\n",
    "            break\n",
    "        \n",
    "        codon = dna_sequence[i:i+3]\n",
    "        diagnostic_info['total_codons'] += 1\n",
    "        \n",
    "        # Check if codon is a stop codon\n",
    "        if codon in ['TAA', 'TAG', 'TGA']:\n",
    "            diagnostic_info['stop_codon_found'] = True\n",
    "            break\n",
    "        \n",
    "        # Translate codon\n",
    "        amino_acid = genetic_code.get(codon, 'X')\n",
    "        \n",
    "        # Track unknown codons\n",
    "        if amino_acid == 'X':\n",
    "            diagnostic_info['unknown_codons'] += 1\n",
    "        \n",
    "        protein.append(amino_acid)\n",
    "    \n",
    "    # Convert protein to string\n",
    "    protein_sequence = ''.join(protein)\n",
    "    \n",
    "    # Update diagnostic info\n",
    "    diagnostic_info['translated_length'] = len(protein_sequence)\n",
    "    \n",
    "    return protein_sequence, diagnostic_info\n",
    "\n",
    "def analyze_dna_translation(dna_sequence):\n",
    "    \"\"\"\n",
    "    Comprehensive DNA translation analysis\n",
    "    \n",
    "    Provides multiple reading frames and detailed translation information\n",
    "    \"\"\"\n",
    "    print(\"DNA Sequence Analysis:\")\n",
    "    print(\"-\" * 40)\n",
    "    print(f\"Original Sequence: {dna_sequence}\")\n",
    "    print(f\"Sequence Length: {len(dna_sequence)} nucleotides\")\n",
    "    \n",
    "    # Analyze all 3 reading frames\n",
    "    for frame in range(3):\n",
    "        print(f\"\\nReading Frame {frame + 1}:\")\n",
    "        translated_protein, diagnostic = translate_dna_to_protein(\n",
    "            dna_sequence[frame:], \n",
    "            start_codon='ATG'\n",
    "        )\n",
    "        \n",
    "        print(f\"Translated Protein: {translated_protein}\")\n",
    "        print(\"Diagnostic Information:\")\n",
    "        for key, value in diagnostic.items():\n",
    "            print(f\"  {key.replace('_', ' ').title()}: {value}\")\n",
    "\n",
    "# Example usage\n",
    "example_sequences = [\n",
    "    \"ATGCATCGATCGATCGATCG\",  # Sample DNA sequence\n",
    "    \"GCATCGATCGATCGATCGATCG\",  # Different starting point\n",
    "    \"ATGAAACCCGGGTTT\"  # Another example\n",
    "]\n",
    "\n",
    "for sequence in example_sequences:\n",
    "    analyze_dna_translation(sequence)\n",
    "    print(\"\\n\" + \"=\"*50 + \"\\n\")"
   ]
  },
  {
   "cell_type": "markdown",
   "metadata": {},
   "source": [
    "> <p style=\"background-color:#AFEEEE;padding:3px\"><font size=\"4\"><b> </b></font> What are the differences between a DNA sequence and a Protein sequence ? Simply summarize how they are encoded to show you read the code above. </p>\n",
    "\n",
    "- DNA is encoded with 4 nucleotides (ACGT) and protein is encoded using amino acids (**more** than 4 different types)"
   ]
  },
  {
   "cell_type": "markdown",
   "metadata": {},
   "source": [
    "> <p style=\"background-color:#AFEEEE;padding:3px\"><font size=\"4\"><b> </b></font> What is a reading frame ? If you have a mutation that add one nucleic acid in your DNA sequence, what are the consequences ? </p>\n",
    "\n",
    "- Reading frames are used to translate the DNA into amino acids step by step. If there's a mutation, the reading frames will be offset. I'm guessing that the translating would happen differently in this case.\n"
   ]
  },
  {
   "cell_type": "markdown",
   "metadata": {},
   "source": [
    "\n",
    "> <p style=\"background-color:#AFEEEE;padding:3px\"><font size=\"4\"><b> </b></font> What should be changed if we use RNA instead of DNA sequences for our sequences ?  </p>\n",
    "Check the DNA and RNA codon table page [here](https://en.wikipedia.org/wiki/DNA_and_RNA_codon_tables) to help you answer.\n",
    "\n",
    "- RNA uses uracil (U) instead of thymine (T), the code would need to be changed to work with RNA. The start and stop codons are different with RNA\n"
   ]
  },
  {
   "cell_type": "markdown",
   "metadata": {},
   "source": [
    "Have you ever wondered what all these amino acids taste like ? Here we answer the question for you.\n",
    "\n",
    "\n",
    "![](https://www.umamiinfo.com/images/what/whatisumami/table_02_pc.png)\n",
    "\n",
    "> <p style=\"background-color:#AFEEEE;padding:3px\"><font size=\"4\"><b> </b></font> What product often stored in a green, yellow and red cylindrical container, and consummed in Switzerland contains Glutamate ?  </p>\n",
    "\n",
    "- Aromat\n"
   ]
  },
  {
   "cell_type": "markdown",
   "metadata": {},
   "source": [
    "# File types overview\n",
    "\n",
    "> <p style=\"background-color:#AFEEEE;padding:3px\"><font size=\"4\"><b> </b></font> Describe the following file formats and what they used for. Give a small extract or an example of what the file looks like and give example of what tools produce and/or use it (e.g. The tool X uses Fasta file to generate Y). You can use an LLM to help you format your answer but you should cite reliable bioinformatics sources for each description (wikipedia is ok but try to find more bioinfo ressources if possible). </p>\n",
    "\n",
    "- Fasta / Fastq\n",
    "- GTF/GFF\n",
    "- SAM/BAM\n"
   ]
  },
  {
   "cell_type": "markdown",
   "metadata": {},
   "source": [
    "*Réponses:*\n"
   ]
  },
  {
   "cell_type": "markdown",
   "metadata": {},
   "source": [
    "### Fasta/Fastq\n",
    "\n",
    "Both are used for representing either nucleotide sequences or amino acid (protein) sequences. FASTQ adds a quality score to the sequence as well.\n",
    "\n",
    "Here's an example of a FASTA file:\n",
    "\n",
    "```text\n",
    ">MCHU - Calmodulin - Human, rabbit, bovine, rat, and chicken\n",
    "MADQLTEEQIAEFKEAFSLFDKDGDGTITTKELGTVMRSLGQNPTEAELQDMINEVDADGNGTID\n",
    "FPEFLTMMARKMKDTDSEEEIREAFRVFDKDGNGYISAAELRHVMTNLGEKLTDEEVDEMIREA\n",
    "DIDGDGQVNYEEFVQMMTAK*\n",
    "```\n",
    "\n",
    "SSEARCH performs protein-protein or DNA-DNA comparisons using the Smith-Waterman algorithm.\n",
    "\n",
    "Here's an example of a FASTQ file:\n",
    "\n",
    "```text\n",
    "@SEQ_ID\n",
    "GATTTGGGGTTCAAAGCAGTATCGATCAAATAGTAAATCCATTTGTTCAACTCACAGTTT\n",
    "+\n",
    "!''*((((***+))%%%++)(%%%%).1***-+*''))**55CCF>>>>>>CCCCCCC65\n",
    "```\n",
    "\n",
    "FASTQ format is typically used for raw sequence reads from high-throughput sequencing technologies like Illumina. It includes raw sequence reads and per-base quality scores.\n"
   ]
  },
  {
   "cell_type": "markdown",
   "metadata": {},
   "source": [
    "### GTF/GFF\n",
    "\n",
    "The GFF (General Feature Format) format consists of one line per feature, each containing 9 columns of data, plus optional track definition lines.\n",
    "The GTF (General Transfer Format) is identical to GFF.\n",
    "\n",
    "Both formats are used to describe and represent genomic features.\n",
    "\n",
    "Sample GFF output from Ensembl data dump:\n",
    "\n",
    "```text\n",
    "1 transcribed_unprocessed_pseudogene  gene 11869 14409 . + . gene_id \"ENSG00000223972\"; gene_name \"DDX11L1\"; gene_source \"havana\"; gene_biotype \"transcribed_unprocessed_pseudogene\"; \n",
    "1 processed_transcript transcript  11869 14409 . + . gene_id \"ENSG00000223972\"; transcript_id \"ENST00000456328\"; gene_name \"DDX11L1\"; gene_sourc e \"havana\"; gene_biotype \"transcribed_unprocessed_pseudogene\"; transcript_name \"DDX11L1-002\"; transcript_source \"havana\";\n",
    "```\n",
    "\n",
    "Sample GFF output from Ensembl export:\n",
    "\n",
    "```text\n",
    "X\tEnsembl\tRepeat\t2419108\t2419128\t42\t.\t.\thid=trf; hstart=1; hend=21\n",
    "X\tEnsembl\tRepeat\t2419108\t2419410\t2502\t-\t.\thid=AluSx; hstart=1; hend=303\n",
    "X\tEnsembl\tRepeat\t2419108\t2419128\t0\t.\t.\thid=dust; hstart=2419108; hend=2419128\n",
    "X\tEnsembl\tPred.trans.\t2416676\t2418760\t450.19\t-\t2\tgenscan=GENSCAN00000019335\n",
    "X\tEnsembl\tVariation\t2413425\t2413425\t.\t+\t.\t\n",
    "X\tEnsembl\tVariation\t2413805\t2413805\t.\t+\t.\n",
    "```\n",
    "\n",
    "Programs like StringTie and Cufflinks utilize GFF and GTF files for processing and analyzing genomic data, particularly in transcriptome analysis and gene expression studies.\n"
   ]
  },
  {
   "cell_type": "markdown",
   "metadata": {},
   "source": [
    "### SAM/BAM\n",
    "\n",
    "SAM means Sequence Alignment Map, BAM means Binary Alignement Map.\n",
    "\n",
    "The SAM Format is a text format for storing sequence data in a series of tab delimited ASCII columns. Most often it is generated as a human readable version of its sister BAM format, which stores the same data in a compressed, indexed, binary form.\n",
    "\n",
    "SAM format files are generated following mapping of the reads to reference sequence.\n",
    "\n",
    "SAM file:\n",
    "```text\n",
    "1:497:R:-272+13M17D24M\t113\t1\t497\t37\t37M\t15\t100338662\t0\tCGGGTCTGACCTGAGGAGAACTGTGCTCCGCCTTCAG\t0;==-==9;>>>>>=>>>>>>>>>>>=>>>>>>>>>>\tXT:A:U\tNM:i:0\tSM:i:37\tAM:i:0\tX0:i:1\tX1:i:0\tXM:i:0\tXO:i:0\tXG:i:0\tMD:Z:37\n",
    "19:20389:F:275+18M2D19M\t99\t1\t17644\t0\t37M\t=\t17919\t314\tTATGACTGCTAATAATACCTACACATGTTAGAACCAT\t>>>>>>>>>>>>>>>>>>>><<>>><<>>4::>>:<9\tRG:Z:UM0098:1\tXT:A:R\tNM:i:0\tSM:i:0\tAM:i:0\tX0:i:4\tX1:i:0\tXM:i:0\tXO:i:0\tXG:i:0\tMD:Z:37\n",
    "19:20389:F:275+18M2D19M\t147\t1\t17919\t0\t18M2D19M\t=\t17644\t-314\tGTAGTACCAACTGTAAGTCCTTATCTTCATACTTTGT\t;44999;499<8<8<<<8<<><<<<><7<;<<<>><<\tXT:A:R\tNM:i:2\tSM:i:0\tAM:i:0\tX0:i:4\tX1:i:0\tXM:i:0\tXO:i:1\tXG:i:2\tMD:Z:18^CA19\n",
    "9:21597+10M2I25M:R:-209\t83\t1\t21678\t0\t8M2I27M\t=\t21469\t-244\tCACCACATCACATATACCAAGCCTGGCTGTGTCTTCT\t<;9<<5><<<<><<<>><<><>><9>><>>>9>>><>\tXT:A:R\tNM:i:2\tSM:i:0\tAM:i:0\tX0:i:5\tX1:i:0\tXM:i:0\tXO:i:1\tXG:i:2\tMD:Z:35\n",
    "```\n",
    "\n",
    "BAM file:\n",
    "\n",
    "```text\n",
    "##fileformat=VCFv4.2\n",
    "##fileDate=20090805\n",
    "##source=myImputationProgramV3.1\n",
    "##reference=file:///seq/references/1000GenomesPilot-NCBI36.fasta\n",
    "##contig=<ID=20,length=62435964,assembly=B36,md5=f126cdf8a6e0c7f379d618ff66beb2da,species=\"Homo sapiens\",taxonomy=x>\n",
    "##phasing=partial\n",
    "##INFO=<ID=NS,Number=1,Type=Integer,Description=\"Number of Samples With Data\">\n",
    "##INFO=<ID=DP,Number=1,Type=Integer,Description=\"Total Depth\">\n",
    "##INFO=<ID=AF,Number=A,Type=Float,Description=\"Allele Frequency\">\n",
    "##INFO=<ID=AA,Number=1,Type=String,Description=\"Ancestral Allele\">\n",
    "##INFO=<ID=DB,Number=0,Type=Flag,Description=\"dbSNP membership, build 129\">\n",
    "##INFO=<ID=H2,Number=0,Type=Flag,Description=\"HapMap2 membership\">\n",
    "##FILTER=<ID=q10,Description=\"Quality below 10\">\n",
    "##FILTER=<ID=s50,Description=\"Less than 50% of samples have data\">\n",
    "##FORMAT=<ID=GT,Number=1,Type=String,Description=\"Genotype\">\n",
    "##FORMAT=<ID=GQ,Number=1,Type=Integer,Description=\"Genotype Quality\">\n",
    "##FORMAT=<ID=DP,Number=1,Type=Integer,Description=\"Read Depth\">\n",
    "##FORMAT=<ID=HQ,Number=2,Type=Integer,Description=\"Haplotype Quality\">\n",
    "#CHROM POS ID REF ALT QUAL FILTER INFO FORMAT NA00001 NA00002 NA00003\n",
    "20 14370 rs6054257 G A 29 PASS NS=3;DP=14;AF=0.5;DB;H2 GT:GQ:DP:HQ 0|0:48:1:51,51 1|0:48:8:51,51 1/1:43:5:.,.\n",
    "20 17330 . T A 3 q10 NS=3;DP=11;AF=0.017 GT:GQ:DP:HQ 0|0:49:3:58,50 0|1:3:5:65,3 0/0:41:3\n",
    "20 1110696 rs6040355 A G,T 67 PASS NS=2;DP=10;AF=0.333,0.667;AA=T;DB GT:GQ:DP:HQ 1|2:21:6:23,27 2|1:2:0:18,2 2/2:35:4\n",
    "20 1230237 . T . 47 PASS NS=3;DP=13;AA=T GT:GQ:DP:HQ 0|0:54:7:56,60 0|0:48:4:51,51 0/0:61:2\n",
    "20 1234567 microsat1 GTC G,GTCT 50 PASS NS=3;DP=9;AA=G GT:GQ:DP 0/1:35:4 0/2:17:2 1/1:40:3\n",
    "```\n",
    "\n",
    "[samtools](https://github.com/samtools/samtools) is a toolkit on GitHub used to process SAM and BAM files."
   ]
  },
  {
   "cell_type": "markdown",
   "metadata": {},
   "source": [
    "### Sources\n",
    "\n",
    "- FASTA [wikipedia](https://en.wikipedia.org/wiki/FASTA_format), [microbe notes](https://microbenotes.com/fasta/)\n",
    "- FASTQ [wikipedia](https://en.wikipedia.org/wiki/FASTQ_format), [omics tutorials](https://omicstutorials.com/efficient-processing-of-sff-fastq-files/), [Illumina](https://www.illumina.com/informatics.html)\n",
    "- FASTA vs FASTQ [sequence server](https://sequenceserver.com/blog/fasta-vs-fastq-formats/)\n",
    "- FASTA, FASTQ and SAM [bioinformatics stack exchange](https://bioinformatics.stackexchange.com/questions/14/what-is-the-difference-between-fasta-fastq-and-sam-file-formats)\n",
    "- GTF/GFF [ensembl.org](https://www.ensembl.org/info/website/upload/gff.html?redirect=no), [agat](https://agat.readthedocs.io/en/latest/gxf.html), [biobam](https://www.biobam.com/differences-between-gtf-and-gff-files-in-genomic-data-analysis/), [GFF Utilities](https://ccb.jhu.edu/software/stringtie/gff.shtml)\n",
    "- SAM/BAM [zymoresearch](https://zymoresearch.eu/blogs/blog/what-are-sam-and-bam-files), [bioinformatics uconn edu](https://bioinformatics.uconn.edu/resources-and-events/tutorials-2/file-formats-tutorial/), [bioinformaticamente.com](https://bioinformaticamente.com/2021/03/03/sam-bam/), [samtools](https://github.com/samtools/samtools)"
   ]
  },
  {
   "cell_type": "markdown",
   "metadata": {},
   "source": [
    "# Bioinformatics is not only sequence analysis\n",
    "\n",
    "- Image detection / microscopy \n",
    "- Sequencing technologies benchmarking (DNA, RNA, Long vs Short reads)\n",
    "- Mass spectrometry\n",
    "- FTIR and Raman spectrometry\n",
    "- Ecology and simulation\n",
    "- Chemical interaction prediction (Cheminformatics)\n",
    "- Etc...\n",
    "\n",
    "\n"
   ]
  },
  {
   "cell_type": "markdown",
   "metadata": {},
   "source": [
    "> <p style=\"background-color:#AFEEEE;padding:3px\"><font size=\"4\"><b> </b></font> Chose a subject from the list above or related to genetics (cancer genomics, epigenetics, single cell sequencing, ), and write a short description of what is the role of bioinformatics in this domain. Cite at least two papers (or reviews) refering to the subject. </p>"
   ]
  },
  {
   "cell_type": "markdown",
   "metadata": {},
   "source": [
    "Subject of choice : Metabolomics\n",
    "\n",
    "Provides insights into the metabolic state of organisms through the analysis of small molecules, or metabolites, which reflect physiological processes. This integration helps in understanding complex biological systems and can aid in disease characterization and biomarker discovery.\n",
    "\n",
    "Article 1: [Metabolomics technology and bioinformatics](https://academic.oup.com/bib/article-abstract/7/2/128/306184)\n",
    "\n",
    "Article 2: [Guide to Metabolomics Analysis: A Bioinformatics Workflow](https://www.mdpi.com/2218-1989/12/4/357)"
   ]
  },
  {
   "cell_type": "markdown",
   "metadata": {},
   "source": []
  }
 ],
 "metadata": {
  "kernelspec": {
   "display_name": ".venv",
   "language": "python",
   "name": "python3"
  },
  "language_info": {
   "codemirror_mode": {
    "name": "ipython",
    "version": 3
   },
   "file_extension": ".py",
   "mimetype": "text/x-python",
   "name": "python",
   "nbconvert_exporter": "python",
   "pygments_lexer": "ipython3",
   "version": "3.13.2"
  }
 },
 "nbformat": 4,
 "nbformat_minor": 2
}
