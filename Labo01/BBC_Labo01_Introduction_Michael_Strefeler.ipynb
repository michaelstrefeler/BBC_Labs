{
 "cells": [
  {
   "cell_type": "markdown",
   "metadata": {},
   "source": [
    "\n",
    "# BBC - Bioinformatics and Computational Biology 2025\n",
    "\n",
    "> Practicals 01 - Introduction to Bioinformatics\n",
    "\n",
    "---\n",
    "\n",
    "- Professeur: Brochet Xavier (<a href=\"mailto:xavier.brochet@heig-vd.ch\">xavier.brochet@heig-vd.ch</a>)\n",
    "- Assistant: Thibault Schowing (<a href=\"mailto:thibault.schowing@heig-vd.ch\">thibault.schowing@heig-vd.ch</a>)\n",
    "\n",
    "- Student: Michael Strefeler\n",
    "\n",
    "\n",
    "## Instructions\n",
    "\n",
    "- Add your name to the filename and here above\n",
    "- Answer the questions \n",
    "- Add python or markdown cells if you deem it necessary\n",
    "- Return the notebook according to instructions given in class. \n",
    "\n",
    "## Content\n",
    "\n",
    "- Basics of DNA structure and replication (Crash course)\n",
    "- Sequences and files\n",
    "\n"
   ]
  },
  {
   "cell_type": "markdown",
   "metadata": {},
   "source": [
    "> Throughout the laboratories, the questions that you should answer are highlighted as follows :\n",
    "> <p style=\"background-color:#AFEEEE;padding:3px\"><font size=\"4\"><b>0. </b></font> This is a question.</p>"
   ]
  },
  {
   "cell_type": "markdown",
   "metadata": {
    "vscode": {
     "languageId": "plaintext"
    }
   },
   "source": [
    "## Basic DNA biology\n",
    "\n",
    "\n",
    "If you are passionate and want to review all basics of biology in a rainy Sunday afternoon, you can watch this full biology crash course [from carbon atoms to ecology - full YouTube Playlist](https://www.youtube.com/playlist?list=PL3EED4C1D684D3ADF) but for this introductory lab you just need to quickly review in 13 minutes what is DNA and how it is replicated you can watch just [this video](https://www.youtube.com/watch?v=8kK2zwjRV0M&list=PL3EED4C1D684D3ADF&index=12) from the series followed by [the next 14 minutes one](https://www.youtube.com/watch?v=itsb2SqR-R0&list=PL3EED4C1D684D3ADF&index=12) which describes the bases of DNA transcription and RNA translation. \n",
    "\n",
    "\n"
   ]
  },
  {
   "cell_type": "markdown",
   "metadata": {},
   "source": [
    "Answer the following questions. The answer are found in the two videos above, wo you can answer while watching, but feel free to search by yourself.  Give simple and short answers, with no need to ask GPT or Claude to write a paragraph for each question, the goal being for you to understand these concepts."
   ]
  },
  {
   "cell_type": "markdown",
   "metadata": {},
   "source": [
    "> <p style=\"background-color:#AFEEEE;padding:3px\"><font size=\"4\"><b> </b></font> What are 3' and 5' when we talk about DNA ? </p>\n",
    "The double helix is like a twisted ladder with 2 strands that are connected. At each \"step\" of the ladder, both strands are connected, each side has a sugar molecule and a phosphate, 3' and 5' are how each step is connected to the next one\n",
    "[5' --> 3'] is the pattern of the strand (going up)\n",
    "[3' --> 5'] is the pattern of the other strand"
   ]
  },
  {
   "cell_type": "markdown",
   "metadata": {},
   "source": [
    "> <p style=\"background-color:#AFEEEE;padding:3px\"><font size=\"4\"><b> </b></font> What are the different steps of replication ?</p>\n",
    "- The Helicase splits the strand into 2 strands (leading strand and lagging strand)\n",
    "- The 2 strands are used as templates for replication\n",
    "- RNA Primase puts the compatible nucleotides with the ones on the leading strand, (A with U, C with G, T with A) at the start and then DNA polymerase does the rest\n",
    "- The lagging strand is harder to replicate, RNA primase can do sections of the strand at a time and then the DNA polymerase works backwards, once all that is done a different DNA polymerase has to replace the RNA primers, then, finally, DNA ligase makes the bond"
   ]
  },
  {
   "cell_type": "markdown",
   "metadata": {},
   "source": [
    "> <p style=\"background-color:#AFEEEE;padding:3px\"><font size=\"4\"><b> </b></font> Where is DNA located in eukaryotes ?</p>\n",
    "- In the nucleus"
   ]
  },
  {
   "cell_type": "markdown",
   "metadata": {},
   "source": [
    "> <p style=\"background-color:#AFEEEE;padding:3px\"><font size=\"4\"><b> </b></font> How is DNA packed in the nucleus ? </p>\n",
    "- Gene by gene"
   ]
  },
  {
   "cell_type": "markdown",
   "metadata": {},
   "source": [
    "> <p style=\"background-color:#AFEEEE;padding:3px\"><font size=\"4\"><b> </b></font> What is a promoter (TATA box) ?</p>\n",
    "- A sequence that defines when the transcription unit is going to begin, the TATA box helps the enzyme figure out where to bind to the strand"
   ]
  },
  {
   "cell_type": "markdown",
   "metadata": {},
   "source": [
    "> <p style=\"background-color:#AFEEEE;padding:3px\"><font size=\"4\"><b> </b></font> What strand is used to transcribe in RNA ? </p>\n",
    "- The leading strand"
   ]
  },
  {
   "cell_type": "markdown",
   "metadata": {},
   "source": [
    "> <p style=\"background-color:#AFEEEE;padding:3px\"><font size=\"4\"><b> </b></font> How is the mRNA matured after transcription ?</p>\n",
    "-  By adding Guanine to the 5' end and by adding a poly-A tail (about 250 adenines) on the 3' end"
   ]
  },
  {
   "cell_type": "markdown",
   "metadata": {},
   "source": [
    "> <p style=\"background-color:#AFEEEE;padding:3px\"><font size=\"4\"><b> </b></font> Snurps and splicing ? Exons ? Introns ? What are they ?</p>\n",
    "- RNA Splicing is used to remove excess information from the mRNA\n",
    "- Snurps a key player in RNA splicing, snurp means Small Nuclear RibonucleoProteins. They are combinations of RNA and proteins, they are used to find the start and end of splices\n",
    "- Exons is we keep when splicing, introns are when is cut out when splicing"
   ]
  },
  {
   "cell_type": "markdown",
   "metadata": {},
   "source": [
    "> <p style=\"background-color:#AFEEEE;padding:3px\"><font size=\"4\"><b> </b></font> Endoplasmic reticulum and ribosomes: what are they used for ? </p>\n",
    "- The endoplasmic reticulum is a part of a transportation system of the eukaryotic cell, and has many other important functions such as protein folding.\n",
    "- Ribosomes are a mixuture of proteins and ribosomal RNA (rRNA). The incoming mRNA goes there. They translate genetic code into chains of amino acids using tRNA."
   ]
  },
  {
   "cell_type": "markdown",
   "metadata": {},
   "source": [
    "> <p style=\"background-color:#AFEEEE;padding:3px\"><font size=\"4\"><b> </b></font> What is tRNA and what is it used for ? </p>\n",
    "- tRNA is transfer RNA and it does translation from the language of nucleotides into the language of amino acids and proteins"
   ]
  },
  {
   "cell_type": "markdown",
   "metadata": {
    "vscode": {
     "languageId": "plaintext"
    }
   },
   "source": [
    "> <p style=\"background-color:#AFEEEE;padding:3px\"><font size=\"4\"><b> </b></font> In how many dimentions can we analyse proteins ?</p>\n",
    "- Proteins can be analyzed in multiple dimensions, primarily focusing on their primary, secondary, tertiary, and quaternary structures"
   ]
  },
  {
   "cell_type": "markdown",
   "metadata": {},
   "source": [
    "---"
   ]
  },
  {
   "cell_type": "markdown",
   "metadata": {
    "vscode": {
     "languageId": "plaintext"
    }
   },
   "source": [
    "## Sequences and files\n",
    "\n",
    "A DNA sequence is a string of nucleotides represented by four letters:\n",
    "- A (Adenine)\n",
    "- T (Thymine)\n",
    "- C (Cytosine)\n",
    "- G (Guanine)\n",
    "\n",
    "Here is a simple class representing a DNA sequence. Take a look at the code. "
   ]
  },
  {
   "cell_type": "code",
   "execution_count": 3,
   "metadata": {},
   "outputs": [
    {
     "name": "stdout",
     "output_type": "stream",
     "text": [
      "Original Sequence: ATCGATCG\n",
      "Complement: TAGCTAGC\n",
      "Reverse Complement: CGATCGAT\n",
      "GC Content: 50.0 %\n"
     ]
    }
   ],
   "source": [
    "# Basic DNA Sequence Representation\n",
    "class DNASequence:\n",
    "    def __init__(self, sequence):\n",
    "        # Validate and store the sequence\n",
    "        self.sequence = sequence.upper()\n",
    "        if not self._is_valid():\n",
    "            raise ValueError(\"Invalid DNA sequence\")\n",
    "    \n",
    "    def _is_valid(self):\n",
    "        \"\"\"Check if sequence contains only valid nucleotides\"\"\"\n",
    "        valid_nucleotides = set('ATCG')\n",
    "        return all(base in valid_nucleotides for base in self.sequence)\n",
    "    \n",
    "    def complement(self):\n",
    "        \"\"\"Generate the complement sequence\"\"\"\n",
    "        complement_dict = {'A': 'T', 'T': 'A', 'C': 'G', 'G': 'C'}\n",
    "        return ''.join(complement_dict[base] for base in self.sequence)\n",
    "    \n",
    "    def reverse_complement(self):\n",
    "        \"\"\"Generate the reverse complement sequence\"\"\"\n",
    "        return self.complement()[::-1]\n",
    "    \n",
    "    def gc_content(self):\n",
    "        \"\"\"Calculate GC content percentage\"\"\"\n",
    "        gc_count = self.sequence.count('G') + self.sequence.count('C')\n",
    "        return (gc_count / len(self.sequence)) * 100\n",
    "\n",
    "# Example usage\n",
    "dna = DNASequence(\"ATCGATCG\")\n",
    "print(\"Original Sequence:\", dna.sequence)\n",
    "print(\"Complement:\", dna.complement())\n",
    "print(\"Reverse Complement:\", dna.reverse_complement())\n",
    "print(\"GC Content:\", dna.gc_content(), \"%\")"
   ]
  },
  {
   "cell_type": "markdown",
   "metadata": {},
   "source": [
    "> <p style=\"background-color:#AFEEEE;padding:3px\"><font size=\"4\"><b> </b></font> What is the GC content used for ? (search on the interweb and give your sources)</p>\n",
    "- The structural integrity of DNA is influenced by its nucleotide composition, particularly the presence of guanine and cytosine pairs. These pairs are bonded by three hydrogen bonds, compared to the two bonds found in adenine-thymine pairs. \n",
    "- GC content also affects the physical properties of DNA, influencing its melting temperature—the point at which half of the DNA strands are in the single-stranded state. This is a key parameter in techniques like polymerase chain reaction (PCR). In the PCR, higher GC templates increase the chances of non-specific bindings and consequently the chances of false-positive results. Care must be taken while selecting the PCR template DNA and designing primers. \n",
    "- The genome can broadly be classified into genes and non-coding junk sequences. However, the GC content regions spam both coding and noncoding regions henceforth are important for protein formation as well as gene expression.  \n",
    "\n",
    "Sources:\n",
    "- [genetic education](https://geneticeducation.co.in/what-is-the-importance-of-gc-content/)\n",
    "- [Biology insights](https://biologyinsights.com/gc-content-effects-on-dna-stability-and-gene-expression/)"
   ]
  },
  {
   "cell_type": "markdown",
   "metadata": {},
   "source": [
    "A protein sequence is a string of amino acids represented each by one or three leter depending on the chosen notation. Here we provide a code that simply translates a DNA sequence to protein (we omit all the middle steps of transcription into mRNA (messenger RNA) and the splicing (removing the non coding parts)). \n",
    "\n",
    "\n",
    "Read the code and answer the questions."
   ]
  },
  {
   "cell_type": "code",
   "execution_count": 4,
   "metadata": {},
   "outputs": [
    {
     "name": "stdout",
     "output_type": "stream",
     "text": [
      "DNA Sequence Analysis:\n",
      "----------------------------------------\n",
      "Original Sequence: ATGCATCGATCGATCGATCG\n",
      "Sequence Length: 20 nucleotides\n",
      "\n",
      "Reading Frame 1:\n",
      "Translated Protein: MHRSID\n",
      "Diagnostic Information:\n",
      "  Start Codon Found: True\n",
      "  Total Codons: 6\n",
      "  Stop Codon Found: False\n",
      "  Unknown Codons: 0\n",
      "  Translated Length: 6\n",
      "\n",
      "Reading Frame 2:\n",
      "Translated Protein: \n",
      "Diagnostic Information:\n",
      "  Translated Length: 0\n",
      "  Start Codon Found: False\n",
      "\n",
      "Reading Frame 3:\n",
      "Translated Protein: \n",
      "Diagnostic Information:\n",
      "  Translated Length: 0\n",
      "  Start Codon Found: False\n",
      "\n",
      "==================================================\n",
      "\n",
      "DNA Sequence Analysis:\n",
      "----------------------------------------\n",
      "Original Sequence: GCATCGATCGATCGATCGATCG\n",
      "Sequence Length: 22 nucleotides\n",
      "\n",
      "Reading Frame 1:\n",
      "Translated Protein: \n",
      "Diagnostic Information:\n",
      "  Translated Length: 0\n",
      "  Start Codon Found: False\n",
      "\n",
      "Reading Frame 2:\n",
      "Translated Protein: \n",
      "Diagnostic Information:\n",
      "  Translated Length: 0\n",
      "  Start Codon Found: False\n",
      "\n",
      "Reading Frame 3:\n",
      "Translated Protein: \n",
      "Diagnostic Information:\n",
      "  Translated Length: 0\n",
      "  Start Codon Found: False\n",
      "\n",
      "==================================================\n",
      "\n",
      "DNA Sequence Analysis:\n",
      "----------------------------------------\n",
      "Original Sequence: ATGAAACCCGGGTTT\n",
      "Sequence Length: 15 nucleotides\n",
      "\n",
      "Reading Frame 1:\n",
      "Translated Protein: MKPGF\n",
      "Diagnostic Information:\n",
      "  Start Codon Found: True\n",
      "  Total Codons: 5\n",
      "  Stop Codon Found: False\n",
      "  Unknown Codons: 0\n",
      "  Translated Length: 5\n",
      "\n",
      "Reading Frame 2:\n",
      "Translated Protein: \n",
      "Diagnostic Information:\n",
      "  Translated Length: 0\n",
      "  Start Codon Found: False\n",
      "\n",
      "Reading Frame 3:\n",
      "Translated Protein: \n",
      "Diagnostic Information:\n",
      "  Translated Length: 0\n",
      "  Start Codon Found: False\n",
      "\n",
      "==================================================\n",
      "\n"
     ]
    }
   ],
   "source": [
    "# Smoothly generated by a well known LLM\n",
    "\n",
    "# Complete Genetic Code Dictionary\n",
    "# Standard genetic code mapping (64 possible codons)\n",
    "genetic_code = {\n",
    "    # Start Codon\n",
    "    'ATG': 'M',  # Methionine (Start)\n",
    "    \n",
    "    # Phenylalanine\n",
    "    'TTT': 'F', 'TTC': 'F',\n",
    "    \n",
    "    # Leucine\n",
    "    'TTA': 'L', 'TTG': 'L',\n",
    "    'CTT': 'L', 'CTC': 'L', 'CTA': 'L', 'CTG': 'L',\n",
    "    \n",
    "    # Isoleucine\n",
    "    'ATT': 'I', 'ATC': 'I', 'ATA': 'I',\n",
    "    \n",
    "    # Methionine and Stop\n",
    "    'ATC': 'I', 'ATA': 'I',\n",
    "    \n",
    "    # Valine\n",
    "    'GTT': 'V', 'GTC': 'V', 'GTA': 'V', 'GTG': 'V',\n",
    "    \n",
    "    # Serine\n",
    "    'TCT': 'S', 'TCC': 'S', 'TCA': 'S', 'TCG': 'S',\n",
    "    'AGT': 'S', 'AGC': 'S',\n",
    "    \n",
    "    # Proline\n",
    "    'CCT': 'P', 'CCC': 'P', 'CCA': 'P', 'CCG': 'P',\n",
    "    \n",
    "    # Threonine\n",
    "    'ACT': 'T', 'ACC': 'T', 'ACA': 'T', 'ACG': 'T',\n",
    "    \n",
    "    # Alanine\n",
    "    'GCT': 'A', 'GCC': 'A', 'GCA': 'A', 'GCG': 'A',\n",
    "    \n",
    "    # Tyrosine\n",
    "    'TAT': 'Y', 'TAC': 'Y',\n",
    "    \n",
    "    # Histidine\n",
    "    'CAT': 'H', 'CAC': 'H',\n",
    "    \n",
    "    # Glutamine (GLN)\n",
    "    'CAA': 'Q', 'CAG': 'Q',\n",
    "    \n",
    "    # Asparagine\n",
    "    'AAT': 'N', 'AAC': 'N',\n",
    "    \n",
    "    # Lysine\n",
    "    'AAA': 'K', 'AAG': 'K',\n",
    "    \n",
    "    # Aspartic Acid\n",
    "    'GAT': 'D', 'GAC': 'D',\n",
    "    \n",
    "    # Glutamic Acid (GLU) - Turns into Glutamate in the body\n",
    "    'GAA': 'E', 'GAG': 'E',\n",
    "    \n",
    "    # Cysteine\n",
    "    'TGT': 'C', 'TGC': 'C',\n",
    "    \n",
    "    # Tryptophan\n",
    "    'TGG': 'W',\n",
    "    \n",
    "    # Arginine\n",
    "    'CGT': 'R', 'CGC': 'R', 'CGA': 'R', 'CGG': 'R',\n",
    "    'AGA': 'R', 'AGG': 'R',\n",
    "    \n",
    "    # Glycine\n",
    "    'GGT': 'G', 'GGC': 'G', 'GGA': 'G', 'GGG': 'G',\n",
    "    \n",
    "    # Stop Codons\n",
    "    'TAA': '*', 'TAG': '*', 'TGA': '*'\n",
    "}\n",
    "\n",
    "def translate_dna_to_protein(dna_sequence, start_codon='ATG'):\n",
    "    \"\"\"\n",
    "    Translate DNA sequence to protein sequence with advanced features\n",
    "    \n",
    "    Parameters:\n",
    "    - dna_sequence: Input DNA sequence to translate\n",
    "    - start_codon: Specifies the start codon (default is 'ATG')\n",
    "    \n",
    "    Returns:\n",
    "    - Translated protein sequence\n",
    "    - Diagnostic information about translation\n",
    "    \"\"\"\n",
    "    # Convert sequence to uppercase to handle mixed case input\n",
    "    dna_sequence = dna_sequence.upper()\n",
    "    \n",
    "    # Find the first occurrence of start codon\n",
    "    start_index = dna_sequence.find(start_codon)\n",
    "    \n",
    "    # If no start codon found, return empty results\n",
    "    if start_index == -1:\n",
    "        return '', {'translated_length': 0, 'start_codon_found': False}\n",
    "    \n",
    "    # Translate from start codon\n",
    "    protein = []\n",
    "    diagnostic_info = {\n",
    "        'start_codon_found': True,\n",
    "        'total_codons': 0,\n",
    "        'stop_codon_found': False,\n",
    "        'unknown_codons': 0\n",
    "    }\n",
    "    \n",
    "    # Translate in groups of 3 nucleotides\n",
    "    for i in range(start_index, len(dna_sequence), 3):\n",
    "        # Ensure we have a complete codon\n",
    "        if i + 3 > len(dna_sequence):\n",
    "            break\n",
    "        \n",
    "        codon = dna_sequence[i:i+3]\n",
    "        diagnostic_info['total_codons'] += 1\n",
    "        \n",
    "        # Check if codon is a stop codon\n",
    "        if codon in ['TAA', 'TAG', 'TGA']:\n",
    "            diagnostic_info['stop_codon_found'] = True\n",
    "            break\n",
    "        \n",
    "        # Translate codon\n",
    "        amino_acid = genetic_code.get(codon, 'X')\n",
    "        \n",
    "        # Track unknown codons\n",
    "        if amino_acid == 'X':\n",
    "            diagnostic_info['unknown_codons'] += 1\n",
    "        \n",
    "        protein.append(amino_acid)\n",
    "    \n",
    "    # Convert protein to string\n",
    "    protein_sequence = ''.join(protein)\n",
    "    \n",
    "    # Update diagnostic info\n",
    "    diagnostic_info['translated_length'] = len(protein_sequence)\n",
    "    \n",
    "    return protein_sequence, diagnostic_info\n",
    "\n",
    "def analyze_dna_translation(dna_sequence):\n",
    "    \"\"\"\n",
    "    Comprehensive DNA translation analysis\n",
    "    \n",
    "    Provides multiple reading frames and detailed translation information\n",
    "    \"\"\"\n",
    "    print(\"DNA Sequence Analysis:\")\n",
    "    print(\"-\" * 40)\n",
    "    print(f\"Original Sequence: {dna_sequence}\")\n",
    "    print(f\"Sequence Length: {len(dna_sequence)} nucleotides\")\n",
    "    \n",
    "    # Analyze all 3 reading frames\n",
    "    for frame in range(3):\n",
    "        print(f\"\\nReading Frame {frame + 1}:\")\n",
    "        translated_protein, diagnostic = translate_dna_to_protein(\n",
    "            dna_sequence[frame:], \n",
    "            start_codon='ATG'\n",
    "        )\n",
    "        \n",
    "        print(f\"Translated Protein: {translated_protein}\")\n",
    "        print(\"Diagnostic Information:\")\n",
    "        for key, value in diagnostic.items():\n",
    "            print(f\"  {key.replace('_', ' ').title()}: {value}\")\n",
    "\n",
    "# Example usage\n",
    "example_sequences = [\n",
    "    \"ATGCATCGATCGATCGATCG\",  # Sample DNA sequence\n",
    "    \"GCATCGATCGATCGATCGATCG\",  # Different starting point\n",
    "    \"ATGAAACCCGGGTTT\"  # Another example\n",
    "]\n",
    "\n",
    "for sequence in example_sequences:\n",
    "    analyze_dna_translation(sequence)\n",
    "    print(\"\\n\" + \"=\"*50 + \"\\n\")"
   ]
  },
  {
   "cell_type": "markdown",
   "metadata": {},
   "source": [
    "> <p style=\"background-color:#AFEEEE;padding:3px\"><font size=\"4\"><b> </b></font> What are the differences between a DNA sequence and a Protein sequence ? Simply summarize how they are encoded to show you read the code above. </p>\n",
    "\n",
    "- DNA is encoded with 4 nucleotides (ACGT) and protein is encoded using amino acids (20 different types)"
   ]
  },
  {
   "cell_type": "markdown",
   "metadata": {},
   "source": [
    "> <p style=\"background-color:#AFEEEE;padding:3px\"><font size=\"4\"><b> </b></font> What is a reading frame ? If you have a mutation that add one nucleic acid in your DNA sequence, what are the consequences ? </p>\n",
    "\n",
    "- **TODO**\n"
   ]
  },
  {
   "cell_type": "markdown",
   "metadata": {},
   "source": [
    "\n",
    "> <p style=\"background-color:#AFEEEE;padding:3px\"><font size=\"4\"><b> </b></font> What should be changed if we use RNA instead of DNA sequences for our sequences ?  </p>\n",
    "Check the DNA and RNA codon table page [here](https://en.wikipedia.org/wiki/DNA_and_RNA_codon_tables) to help you answer.\n",
    "\n",
    "**TODO**\n",
    "\n",
    "Start of answer (maybe)\n",
    "- RNA uses uracil (U) instead of thymine (T)\n"
   ]
  },
  {
   "cell_type": "markdown",
   "metadata": {},
   "source": [
    "Have you ever wondered what all these amino acids taste like ? Here we answer the question for you.\n",
    "\n",
    "\n",
    "![](https://www.umamiinfo.com/images/what/whatisumami/table_02_pc.png)\n",
    "\n",
    "> <p style=\"background-color:#AFEEEE;padding:3px\"><font size=\"4\"><b> </b></font> What product often stored in a green, yellow and red cylindrical container, and consummed in Switzerland contains Glutamate ?  </p>\n",
    "\n",
    "- Aromat\n"
   ]
  },
  {
   "cell_type": "markdown",
   "metadata": {},
   "source": [
    "# File types overview\n",
    "\n",
    "> <p style=\"background-color:#AFEEEE;padding:3px\"><font size=\"4\"><b> </b></font> Describe the following file formats and what they used for. Give a small extract or an example of what the file looks like and give example of what tools produce and/or use it (e.g. The tool X uses Fasta file to generate Y). You can use an LLM to help you format your answer but you should cite reliable bioinformatics sources for each description (wikipedia is ok but try to find more bioinfo ressources if possible). </p>\n",
    "\n",
    "- Fasta / Fastq\n",
    "- GTF/GFF\n",
    "- SAM/BAM\n"
   ]
  },
  {
   "cell_type": "markdown",
   "metadata": {},
   "source": [
    "*Réponses:*\n"
   ]
  },
  {
   "cell_type": "markdown",
   "metadata": {},
   "source": [
    "### Fasta/Fastq\n",
    "\n",
    "\n"
   ]
  },
  {
   "cell_type": "markdown",
   "metadata": {},
   "source": [
    "### GTF/GFF\n",
    "\n",
    "\n"
   ]
  },
  {
   "cell_type": "markdown",
   "metadata": {},
   "source": [
    "### SAM/BAM\n",
    "\n",
    "\n"
   ]
  },
  {
   "cell_type": "markdown",
   "metadata": {},
   "source": [
    "# Bioinformatics is not only sequence analysis\n",
    "\n",
    "- Image detection / microscopy \n",
    "- Sequencing technologies benchmarking (DNA, RNA, Long vs Short reads)\n",
    "- Mass spectrometry\n",
    "- FTIR and Raman spectrometry\n",
    "- Ecology and simulation\n",
    "- Chemical interaction prediction (Cheminformatics)\n",
    "- Etc...\n",
    "\n",
    "\n"
   ]
  },
  {
   "cell_type": "markdown",
   "metadata": {},
   "source": [
    "> <p style=\"background-color:#AFEEEE;padding:3px\"><font size=\"4\"><b> </b></font> Chose a subject from the list above or related to genetics (cancer genomics, epigenetics, single cell sequencing, ), and write a short description of what is the role of bioinformatics in this domain. Cite at least two papers (or reviews) refering to the subject. </p>"
   ]
  },
  {
   "cell_type": "markdown",
   "metadata": {},
   "source": [
    "- "
   ]
  }
 ],
 "metadata": {
  "kernelspec": {
   "display_name": "Python 3",
   "language": "python",
   "name": "python3"
  },
  "language_info": {
   "codemirror_mode": {
    "name": "ipython",
    "version": 3
   },
   "file_extension": ".py",
   "mimetype": "text/x-python",
   "name": "python",
   "nbconvert_exporter": "python",
   "pygments_lexer": "ipython3",
   "version": "3.13.2"
  }
 },
 "nbformat": 4,
 "nbformat_minor": 2
}
